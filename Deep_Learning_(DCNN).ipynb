{
  "cells": [
    {
      "cell_type": "code",
      "execution_count": 1,
      "metadata": {
        "colab": {
          "base_uri": "https://localhost:8080/"
        },
        "id": "6g6fc9BtDvKL",
        "outputId": "701edc2e-76fa-4808-ab05-f9f7944fd37d"
      },
      "outputs": [
        {
          "name": "stdout",
          "output_type": "stream",
          "text": [
            "Requirement already satisfied: opendatasets in c:\\users\\user\\appdata\\local\\packages\\pythonsoftwarefoundation.python.3.10_qbz5n2kfra8p0\\localcache\\local-packages\\python310\\site-packages (0.1.22)\n",
            "Requirement already satisfied: tqdm in c:\\users\\user\\appdata\\local\\packages\\pythonsoftwarefoundation.python.3.10_qbz5n2kfra8p0\\localcache\\local-packages\\python310\\site-packages (from opendatasets) (4.66.4)\n",
            "Requirement already satisfied: kaggle in c:\\users\\user\\appdata\\local\\packages\\pythonsoftwarefoundation.python.3.10_qbz5n2kfra8p0\\localcache\\local-packages\\python310\\site-packages (from opendatasets) (1.6.17)\n",
            "Requirement already satisfied: click in c:\\users\\user\\appdata\\local\\packages\\pythonsoftwarefoundation.python.3.10_qbz5n2kfra8p0\\localcache\\local-packages\\python310\\site-packages (from opendatasets) (8.1.3)\n",
            "Requirement already satisfied: colorama in c:\\users\\user\\appdata\\local\\packages\\pythonsoftwarefoundation.python.3.10_qbz5n2kfra8p0\\localcache\\local-packages\\python310\\site-packages (from click->opendatasets) (0.4.6)\n",
            "Requirement already satisfied: six>=1.10 in c:\\users\\user\\appdata\\local\\packages\\pythonsoftwarefoundation.python.3.10_qbz5n2kfra8p0\\localcache\\local-packages\\python310\\site-packages (from kaggle->opendatasets) (1.16.0)\n",
            "Requirement already satisfied: certifi>=2023.7.22 in c:\\users\\user\\appdata\\local\\packages\\pythonsoftwarefoundation.python.3.10_qbz5n2kfra8p0\\localcache\\local-packages\\python310\\site-packages (from kaggle->opendatasets) (2024.7.4)\n",
            "Requirement already satisfied: python-dateutil in c:\\users\\user\\appdata\\local\\packages\\pythonsoftwarefoundation.python.3.10_qbz5n2kfra8p0\\localcache\\local-packages\\python310\\site-packages (from kaggle->opendatasets) (2.8.2)\n",
            "Requirement already satisfied: requests in c:\\users\\user\\appdata\\local\\packages\\pythonsoftwarefoundation.python.3.10_qbz5n2kfra8p0\\localcache\\local-packages\\python310\\site-packages (from kaggle->opendatasets) (2.31.0)\n",
            "Requirement already satisfied: python-slugify in c:\\users\\user\\appdata\\local\\packages\\pythonsoftwarefoundation.python.3.10_qbz5n2kfra8p0\\localcache\\local-packages\\python310\\site-packages (from kaggle->opendatasets) (8.0.4)\n",
            "Requirement already satisfied: urllib3 in c:\\users\\user\\appdata\\local\\packages\\pythonsoftwarefoundation.python.3.10_qbz5n2kfra8p0\\localcache\\local-packages\\python310\\site-packages (from kaggle->opendatasets) (1.26.1)\n",
            "Requirement already satisfied: bleach in c:\\users\\user\\appdata\\local\\packages\\pythonsoftwarefoundation.python.3.10_qbz5n2kfra8p0\\localcache\\local-packages\\python310\\site-packages (from kaggle->opendatasets) (6.1.0)\n",
            "Requirement already satisfied: webencodings in c:\\users\\user\\appdata\\local\\packages\\pythonsoftwarefoundation.python.3.10_qbz5n2kfra8p0\\localcache\\local-packages\\python310\\site-packages (from bleach->kaggle->opendatasets) (0.5.1)\n",
            "Requirement already satisfied: text-unidecode>=1.3 in c:\\users\\user\\appdata\\local\\packages\\pythonsoftwarefoundation.python.3.10_qbz5n2kfra8p0\\localcache\\local-packages\\python310\\site-packages (from python-slugify->kaggle->opendatasets) (1.3)\n",
            "Requirement already satisfied: charset-normalizer<4,>=2 in c:\\users\\user\\appdata\\local\\packages\\pythonsoftwarefoundation.python.3.10_qbz5n2kfra8p0\\localcache\\local-packages\\python310\\site-packages (from requests->kaggle->opendatasets) (2.1.1)\n",
            "Requirement already satisfied: idna<4,>=2.5 in c:\\users\\user\\appdata\\local\\packages\\pythonsoftwarefoundation.python.3.10_qbz5n2kfra8p0\\localcache\\local-packages\\python310\\site-packages (from requests->kaggle->opendatasets) (3.4)\n"
          ]
        },
        {
          "name": "stderr",
          "output_type": "stream",
          "text": [
            "\n",
            "[notice] A new release of pip is available: 23.1.2 -> 24.2\n",
            "[notice] To update, run: C:\\Users\\user\\AppData\\Local\\Microsoft\\WindowsApps\\PythonSoftwareFoundation.Python.3.10_qbz5n2kfra8p0\\python.exe -m pip install --upgrade pip\n"
          ]
        }
      ],
      "source": [
        "!pip install opendatasets"
      ]
    },
    {
      "cell_type": "code",
      "execution_count": 2,
      "metadata": {
        "colab": {
          "base_uri": "https://localhost:8080/",
          "height": 1000
        },
        "id": "zByeHhGDt3My",
        "outputId": "8f484f19-2cfb-417d-e432-350bcb0a2d5d"
      },
      "outputs": [
        {
          "name": "stdout",
          "output_type": "stream",
          "text": [
            "Collecting gymnasium==0.28.1\n",
            "  Downloading gymnasium-0.28.1-py3-none-any.whl (925 kB)\n",
            "                                              0.0/925.5 kB ? eta -:--:--\n",
            "     ------                                 153.6/925.5 kB 3.1 MB/s eta 0:00:01\n",
            "     -----------                            286.7/925.5 kB 2.9 MB/s eta 0:00:01\n",
            "     ------------------                     450.6/925.5 kB 2.6 MB/s eta 0:00:01\n",
            "     -------------------------              614.4/925.5 kB 2.6 MB/s eta 0:00:01\n",
            "     ------------------------------         737.3/925.5 kB 2.6 MB/s eta 0:00:01\n",
            "     ------------------------------------   880.6/925.5 kB 2.7 MB/s eta 0:00:01\n",
            "     -------------------------------------  921.6/925.5 kB 2.6 MB/s eta 0:00:01\n",
            "     -------------------------------------- 925.5/925.5 kB 2.3 MB/s eta 0:00:00\n",
            "Requirement already satisfied: numpy>=1.21.0 in c:\\users\\user\\appdata\\local\\packages\\pythonsoftwarefoundation.python.3.10_qbz5n2kfra8p0\\localcache\\local-packages\\python310\\site-packages (from gymnasium==0.28.1) (1.26.4)\n",
            "Collecting jax-jumpy>=1.0.0 (from gymnasium==0.28.1)\n",
            "  Downloading jax_jumpy-1.0.0-py3-none-any.whl (20 kB)\n",
            "Collecting cloudpickle>=1.2.0 (from gymnasium==0.28.1)\n",
            "  Downloading cloudpickle-3.0.0-py3-none-any.whl (20 kB)\n",
            "Requirement already satisfied: typing-extensions>=4.3.0 in c:\\users\\user\\appdata\\local\\packages\\pythonsoftwarefoundation.python.3.10_qbz5n2kfra8p0\\localcache\\local-packages\\python310\\site-packages (from gymnasium==0.28.1) (4.9.0)\n",
            "Collecting farama-notifications>=0.0.1 (from gymnasium==0.28.1)\n",
            "  Downloading Farama_Notifications-0.0.4-py3-none-any.whl (2.5 kB)\n",
            "Installing collected packages: farama-notifications, jax-jumpy, cloudpickle, gymnasium\n",
            "Successfully installed cloudpickle-3.0.0 farama-notifications-0.0.4 gymnasium-0.28.1 jax-jumpy-1.0.0\n"
          ]
        },
        {
          "name": "stderr",
          "output_type": "stream",
          "text": [
            "\n",
            "[notice] A new release of pip is available: 23.1.2 -> 24.2\n",
            "[notice] To update, run: C:\\Users\\user\\AppData\\Local\\Microsoft\\WindowsApps\\PythonSoftwareFoundation.Python.3.10_qbz5n2kfra8p0\\python.exe -m pip install --upgrade pip\n"
          ]
        },
        {
          "name": "stdout",
          "output_type": "stream",
          "text": [
            "Collecting ipykernel==6.19.2\n",
            "  Downloading ipykernel-6.19.2-py3-none-any.whl (145 kB)\n",
            "                                              0.0/145.1 kB ? eta -:--:--\n",
            "     -----------------------------          112.6/145.1 kB 3.2 MB/s eta 0:00:01\n",
            "     -------------------------------------- 145.1/145.1 kB 1.4 MB/s eta 0:00:00\n",
            "Requirement already satisfied: comm>=0.1.1 in c:\\users\\user\\appdata\\local\\packages\\pythonsoftwarefoundation.python.3.10_qbz5n2kfra8p0\\localcache\\local-packages\\python310\\site-packages (from ipykernel==6.19.2) (0.2.1)\n",
            "Requirement already satisfied: debugpy>=1.0 in c:\\users\\user\\appdata\\local\\packages\\pythonsoftwarefoundation.python.3.10_qbz5n2kfra8p0\\localcache\\local-packages\\python310\\site-packages (from ipykernel==6.19.2) (1.8.0)\n",
            "Requirement already satisfied: ipython>=7.23.1 in c:\\users\\user\\appdata\\local\\packages\\pythonsoftwarefoundation.python.3.10_qbz5n2kfra8p0\\localcache\\local-packages\\python310\\site-packages (from ipykernel==6.19.2) (8.20.0)\n",
            "Requirement already satisfied: jupyter-client>=6.1.12 in c:\\users\\user\\appdata\\local\\packages\\pythonsoftwarefoundation.python.3.10_qbz5n2kfra8p0\\localcache\\local-packages\\python310\\site-packages (from ipykernel==6.19.2) (8.6.0)\n",
            "Requirement already satisfied: matplotlib-inline>=0.1 in c:\\users\\user\\appdata\\local\\packages\\pythonsoftwarefoundation.python.3.10_qbz5n2kfra8p0\\localcache\\local-packages\\python310\\site-packages (from ipykernel==6.19.2) (0.1.6)\n",
            "Requirement already satisfied: nest-asyncio in c:\\users\\user\\appdata\\local\\packages\\pythonsoftwarefoundation.python.3.10_qbz5n2kfra8p0\\localcache\\local-packages\\python310\\site-packages (from ipykernel==6.19.2) (1.6.0)\n",
            "Requirement already satisfied: packaging in c:\\users\\user\\appdata\\local\\packages\\pythonsoftwarefoundation.python.3.10_qbz5n2kfra8p0\\localcache\\local-packages\\python310\\site-packages (from ipykernel==6.19.2) (23.0)\n",
            "Requirement already satisfied: psutil in c:\\users\\user\\appdata\\local\\packages\\pythonsoftwarefoundation.python.3.10_qbz5n2kfra8p0\\localcache\\local-packages\\python310\\site-packages (from ipykernel==6.19.2) (5.9.8)\n",
            "Requirement already satisfied: pyzmq>=17 in c:\\users\\user\\appdata\\local\\packages\\pythonsoftwarefoundation.python.3.10_qbz5n2kfra8p0\\localcache\\local-packages\\python310\\site-packages (from ipykernel==6.19.2) (25.1.2)\n",
            "Requirement already satisfied: tornado>=6.1 in c:\\users\\user\\appdata\\local\\packages\\pythonsoftwarefoundation.python.3.10_qbz5n2kfra8p0\\localcache\\local-packages\\python310\\site-packages (from ipykernel==6.19.2) (6.4)\n",
            "Requirement already satisfied: traitlets>=5.4.0 in c:\\users\\user\\appdata\\local\\packages\\pythonsoftwarefoundation.python.3.10_qbz5n2kfra8p0\\localcache\\local-packages\\python310\\site-packages (from ipykernel==6.19.2) (5.14.1)\n",
            "Requirement already satisfied: decorator in c:\\users\\user\\appdata\\local\\packages\\pythonsoftwarefoundation.python.3.10_qbz5n2kfra8p0\\localcache\\local-packages\\python310\\site-packages (from ipython>=7.23.1->ipykernel==6.19.2) (5.1.1)\n",
            "Requirement already satisfied: jedi>=0.16 in c:\\users\\user\\appdata\\local\\packages\\pythonsoftwarefoundation.python.3.10_qbz5n2kfra8p0\\localcache\\local-packages\\python310\\site-packages (from ipython>=7.23.1->ipykernel==6.19.2) (0.19.1)\n",
            "Requirement already satisfied: prompt-toolkit<3.1.0,>=3.0.41 in c:\\users\\user\\appdata\\local\\packages\\pythonsoftwarefoundation.python.3.10_qbz5n2kfra8p0\\localcache\\local-packages\\python310\\site-packages (from ipython>=7.23.1->ipykernel==6.19.2) (3.0.43)\n",
            "Requirement already satisfied: pygments>=2.4.0 in c:\\users\\user\\appdata\\local\\packages\\pythonsoftwarefoundation.python.3.10_qbz5n2kfra8p0\\localcache\\local-packages\\python310\\site-packages (from ipython>=7.23.1->ipykernel==6.19.2) (2.17.2)\n",
            "Requirement already satisfied: stack-data in c:\\users\\user\\appdata\\local\\packages\\pythonsoftwarefoundation.python.3.10_qbz5n2kfra8p0\\localcache\\local-packages\\python310\\site-packages (from ipython>=7.23.1->ipykernel==6.19.2) (0.6.3)\n",
            "Requirement already satisfied: exceptiongroup in c:\\users\\user\\appdata\\local\\packages\\pythonsoftwarefoundation.python.3.10_qbz5n2kfra8p0\\localcache\\local-packages\\python310\\site-packages (from ipython>=7.23.1->ipykernel==6.19.2) (1.2.0)\n",
            "Requirement already satisfied: colorama in c:\\users\\user\\appdata\\local\\packages\\pythonsoftwarefoundation.python.3.10_qbz5n2kfra8p0\\localcache\\local-packages\\python310\\site-packages (from ipython>=7.23.1->ipykernel==6.19.2) (0.4.6)\n",
            "Requirement already satisfied: jupyter-core!=5.0.*,>=4.12 in c:\\users\\user\\appdata\\local\\packages\\pythonsoftwarefoundation.python.3.10_qbz5n2kfra8p0\\localcache\\local-packages\\python310\\site-packages (from jupyter-client>=6.1.12->ipykernel==6.19.2) (5.7.1)\n",
            "Requirement already satisfied: python-dateutil>=2.8.2 in c:\\users\\user\\appdata\\local\\packages\\pythonsoftwarefoundation.python.3.10_qbz5n2kfra8p0\\localcache\\local-packages\\python310\\site-packages (from jupyter-client>=6.1.12->ipykernel==6.19.2) (2.8.2)\n",
            "Requirement already satisfied: parso<0.9.0,>=0.8.3 in c:\\users\\user\\appdata\\local\\packages\\pythonsoftwarefoundation.python.3.10_qbz5n2kfra8p0\\localcache\\local-packages\\python310\\site-packages (from jedi>=0.16->ipython>=7.23.1->ipykernel==6.19.2) (0.8.3)\n",
            "Requirement already satisfied: platformdirs>=2.5 in c:\\users\\user\\appdata\\local\\packages\\pythonsoftwarefoundation.python.3.10_qbz5n2kfra8p0\\localcache\\local-packages\\python310\\site-packages (from jupyter-core!=5.0.*,>=4.12->jupyter-client>=6.1.12->ipykernel==6.19.2) (4.2.0)\n",
            "Requirement already satisfied: pywin32>=300 in c:\\users\\user\\appdata\\local\\packages\\pythonsoftwarefoundation.python.3.10_qbz5n2kfra8p0\\localcache\\local-packages\\python310\\site-packages (from jupyter-core!=5.0.*,>=4.12->jupyter-client>=6.1.12->ipykernel==6.19.2) (306)\n",
            "Requirement already satisfied: wcwidth in c:\\users\\user\\appdata\\local\\packages\\pythonsoftwarefoundation.python.3.10_qbz5n2kfra8p0\\localcache\\local-packages\\python310\\site-packages (from prompt-toolkit<3.1.0,>=3.0.41->ipython>=7.23.1->ipykernel==6.19.2) (0.2.13)\n",
            "Requirement already satisfied: six>=1.5 in c:\\users\\user\\appdata\\local\\packages\\pythonsoftwarefoundation.python.3.10_qbz5n2kfra8p0\\localcache\\local-packages\\python310\\site-packages (from python-dateutil>=2.8.2->jupyter-client>=6.1.12->ipykernel==6.19.2) (1.16.0)\n",
            "Requirement already satisfied: executing>=1.2.0 in c:\\users\\user\\appdata\\local\\packages\\pythonsoftwarefoundation.python.3.10_qbz5n2kfra8p0\\localcache\\local-packages\\python310\\site-packages (from stack-data->ipython>=7.23.1->ipykernel==6.19.2) (2.0.1)\n",
            "Requirement already satisfied: asttokens>=2.1.0 in c:\\users\\user\\appdata\\local\\packages\\pythonsoftwarefoundation.python.3.10_qbz5n2kfra8p0\\localcache\\local-packages\\python310\\site-packages (from stack-data->ipython>=7.23.1->ipykernel==6.19.2) (2.4.1)\n",
            "Requirement already satisfied: pure-eval in c:\\users\\user\\appdata\\local\\packages\\pythonsoftwarefoundation.python.3.10_qbz5n2kfra8p0\\localcache\\local-packages\\python310\\site-packages (from stack-data->ipython>=7.23.1->ipykernel==6.19.2) (0.2.2)\n",
            "Installing collected packages: ipykernel\n",
            "  Attempting uninstall: ipykernel\n",
            "    Found existing installation: ipykernel 6.29.0\n",
            "    Uninstalling ipykernel-6.29.0:\n",
            "      Successfully uninstalled ipykernel-6.29.0\n",
            "Successfully installed ipykernel-6.19.2\n"
          ]
        },
        {
          "name": "stderr",
          "output_type": "stream",
          "text": [
            "\n",
            "[notice] A new release of pip is available: 23.1.2 -> 24.2\n",
            "[notice] To update, run: C:\\Users\\user\\AppData\\Local\\Microsoft\\WindowsApps\\PythonSoftwareFoundation.Python.3.10_qbz5n2kfra8p0\\python.exe -m pip install --upgrade pip\n"
          ]
        },
        {
          "name": "stdout",
          "output_type": "stream",
          "text": [
            "Collecting matplotlib==3.7.1\n",
            "  Downloading matplotlib-3.7.1-cp310-cp310-win_amd64.whl (7.6 MB)\n",
            "                                              0.0/7.6 MB ? eta -:--:--\n",
            "                                              0.1/7.6 MB 2.4 MB/s eta 0:00:04\n",
            "     -                                        0.3/7.6 MB 2.4 MB/s eta 0:00:04\n",
            "     --                                       0.4/7.6 MB 2.6 MB/s eta 0:00:03\n",
            "     ---                                      0.7/7.6 MB 2.9 MB/s eta 0:00:03\n",
            "     ----                                     0.8/7.6 MB 3.0 MB/s eta 0:00:03\n",
            "     -----                                    1.1/7.6 MB 3.2 MB/s eta 0:00:03\n",
            "     ------                                   1.2/7.6 MB 3.1 MB/s eta 0:00:03\n",
            "     ------                                   1.3/7.6 MB 3.1 MB/s eta 0:00:03\n",
            "     --------                                 1.6/7.6 MB 3.2 MB/s eta 0:00:02\n",
            "     --------                                 1.7/7.6 MB 3.0 MB/s eta 0:00:02\n",
            "     ---------                                1.8/7.6 MB 3.1 MB/s eta 0:00:02\n",
            "     ----------                               2.0/7.6 MB 3.1 MB/s eta 0:00:02\n",
            "     -----------                              2.2/7.6 MB 3.1 MB/s eta 0:00:02\n",
            "     ------------                             2.4/7.6 MB 3.3 MB/s eta 0:00:02\n",
            "     -------------                            2.7/7.6 MB 3.3 MB/s eta 0:00:02\n",
            "     --------------                           2.8/7.6 MB 3.4 MB/s eta 0:00:02\n",
            "     ---------------                          2.9/7.6 MB 3.3 MB/s eta 0:00:02\n",
            "     ---------------                          3.0/7.6 MB 3.2 MB/s eta 0:00:02\n",
            "     ----------------                         3.1/7.6 MB 3.1 MB/s eta 0:00:02\n",
            "     -----------------                        3.3/7.6 MB 3.1 MB/s eta 0:00:02\n",
            "     ------------------                       3.5/7.6 MB 3.1 MB/s eta 0:00:02\n",
            "     -------------------                      3.7/7.6 MB 3.2 MB/s eta 0:00:02\n",
            "     --------------------                     3.9/7.6 MB 3.1 MB/s eta 0:00:02\n",
            "     --------------------                     4.0/7.6 MB 3.1 MB/s eta 0:00:02\n",
            "     ---------------------                    4.1/7.6 MB 3.1 MB/s eta 0:00:02\n",
            "     ----------------------                   4.2/7.6 MB 3.0 MB/s eta 0:00:02\n",
            "     ----------------------                   4.3/7.6 MB 3.0 MB/s eta 0:00:02\n",
            "     -----------------------                  4.4/7.6 MB 3.0 MB/s eta 0:00:02\n",
            "     ------------------------                 4.6/7.6 MB 3.0 MB/s eta 0:00:02\n",
            "     ------------------------                 4.7/7.6 MB 2.9 MB/s eta 0:00:01\n",
            "     -------------------------                4.9/7.6 MB 3.0 MB/s eta 0:00:01\n",
            "     --------------------------               5.1/7.6 MB 3.0 MB/s eta 0:00:01\n",
            "     ---------------------------              5.3/7.6 MB 3.0 MB/s eta 0:00:01\n",
            "     ----------------------------             5.5/7.6 MB 3.0 MB/s eta 0:00:01\n",
            "     -----------------------------            5.7/7.6 MB 3.0 MB/s eta 0:00:01\n",
            "     ------------------------------           5.8/7.6 MB 3.0 MB/s eta 0:00:01\n",
            "     -------------------------------          6.0/7.6 MB 3.1 MB/s eta 0:00:01\n",
            "     --------------------------------         6.2/7.6 MB 3.0 MB/s eta 0:00:01\n",
            "     ---------------------------------        6.4/7.6 MB 3.1 MB/s eta 0:00:01\n",
            "     ----------------------------------       6.5/7.6 MB 3.1 MB/s eta 0:00:01\n",
            "     ----------------------------------       6.6/7.6 MB 3.0 MB/s eta 0:00:01\n",
            "     ----------------------------------       6.6/7.6 MB 3.0 MB/s eta 0:00:01\n",
            "     ----------------------------------       6.7/7.6 MB 2.9 MB/s eta 0:00:01\n",
            "     -----------------------------------      6.7/7.6 MB 2.9 MB/s eta 0:00:01\n",
            "     -----------------------------------      6.8/7.6 MB 2.8 MB/s eta 0:00:01\n",
            "     -----------------------------------      6.8/7.6 MB 2.8 MB/s eta 0:00:01\n",
            "     ------------------------------------     6.9/7.6 MB 2.8 MB/s eta 0:00:01\n",
            "     ------------------------------------     6.9/7.6 MB 2.8 MB/s eta 0:00:01\n",
            "     ------------------------------------     7.0/7.6 MB 2.7 MB/s eta 0:00:01\n",
            "     -------------------------------------    7.1/7.6 MB 2.7 MB/s eta 0:00:01\n",
            "     -------------------------------------    7.1/7.6 MB 2.7 MB/s eta 0:00:01\n",
            "     -------------------------------------    7.2/7.6 MB 2.6 MB/s eta 0:00:01\n",
            "     -------------------------------------    7.2/7.6 MB 2.6 MB/s eta 0:00:01\n",
            "     --------------------------------------   7.3/7.6 MB 2.6 MB/s eta 0:00:01\n",
            "     --------------------------------------   7.4/7.6 MB 2.6 MB/s eta 0:00:01\n",
            "     --------------------------------------   7.4/7.6 MB 2.5 MB/s eta 0:00:01\n",
            "     ---------------------------------------  7.5/7.6 MB 2.5 MB/s eta 0:00:01\n",
            "     ---------------------------------------  7.5/7.6 MB 2.5 MB/s eta 0:00:01\n",
            "     ---------------------------------------  7.6/7.6 MB 2.5 MB/s eta 0:00:01\n",
            "     ---------------------------------------  7.6/7.6 MB 2.5 MB/s eta 0:00:01\n",
            "     ---------------------------------------  7.6/7.6 MB 2.5 MB/s eta 0:00:01\n",
            "     ---------------------------------------- 7.6/7.6 MB 2.4 MB/s eta 0:00:00\n",
            "Requirement already satisfied: contourpy>=1.0.1 in c:\\users\\user\\appdata\\local\\packages\\pythonsoftwarefoundation.python.3.10_qbz5n2kfra8p0\\localcache\\local-packages\\python310\\site-packages (from matplotlib==3.7.1) (1.0.7)\n",
            "Requirement already satisfied: cycler>=0.10 in c:\\users\\user\\appdata\\local\\packages\\pythonsoftwarefoundation.python.3.10_qbz5n2kfra8p0\\localcache\\local-packages\\python310\\site-packages (from matplotlib==3.7.1) (0.11.0)\n",
            "Requirement already satisfied: fonttools>=4.22.0 in c:\\users\\user\\appdata\\local\\packages\\pythonsoftwarefoundation.python.3.10_qbz5n2kfra8p0\\localcache\\local-packages\\python310\\site-packages (from matplotlib==3.7.1) (4.38.0)\n",
            "Requirement already satisfied: kiwisolver>=1.0.1 in c:\\users\\user\\appdata\\local\\packages\\pythonsoftwarefoundation.python.3.10_qbz5n2kfra8p0\\localcache\\local-packages\\python310\\site-packages (from matplotlib==3.7.1) (1.4.4)\n",
            "Requirement already satisfied: numpy>=1.20 in c:\\users\\user\\appdata\\local\\packages\\pythonsoftwarefoundation.python.3.10_qbz5n2kfra8p0\\localcache\\local-packages\\python310\\site-packages (from matplotlib==3.7.1) (1.26.4)\n",
            "Requirement already satisfied: packaging>=20.0 in c:\\users\\user\\appdata\\local\\packages\\pythonsoftwarefoundation.python.3.10_qbz5n2kfra8p0\\localcache\\local-packages\\python310\\site-packages (from matplotlib==3.7.1) (23.0)\n",
            "Requirement already satisfied: pillow>=6.2.0 in c:\\users\\user\\appdata\\local\\packages\\pythonsoftwarefoundation.python.3.10_qbz5n2kfra8p0\\localcache\\local-packages\\python310\\site-packages (from matplotlib==3.7.1) (9.4.0)\n",
            "Requirement already satisfied: pyparsing>=2.3.1 in c:\\users\\user\\appdata\\local\\packages\\pythonsoftwarefoundation.python.3.10_qbz5n2kfra8p0\\localcache\\local-packages\\python310\\site-packages (from matplotlib==3.7.1) (3.0.9)\n",
            "Requirement already satisfied: python-dateutil>=2.7 in c:\\users\\user\\appdata\\local\\packages\\pythonsoftwarefoundation.python.3.10_qbz5n2kfra8p0\\localcache\\local-packages\\python310\\site-packages (from matplotlib==3.7.1) (2.8.2)\n",
            "Requirement already satisfied: six>=1.5 in c:\\users\\user\\appdata\\local\\packages\\pythonsoftwarefoundation.python.3.10_qbz5n2kfra8p0\\localcache\\local-packages\\python310\\site-packages (from python-dateutil>=2.7->matplotlib==3.7.1) (1.16.0)\n",
            "Installing collected packages: matplotlib\n",
            "  Attempting uninstall: matplotlib\n",
            "    Found existing installation: matplotlib 3.5.3\n",
            "    Uninstalling matplotlib-3.5.3:\n",
            "      Successfully uninstalled matplotlib-3.5.3\n",
            "Successfully installed matplotlib-3.7.1\n"
          ]
        },
        {
          "name": "stderr",
          "output_type": "stream",
          "text": [
            "\n",
            "[notice] A new release of pip is available: 23.1.2 -> 24.2\n",
            "[notice] To update, run: C:\\Users\\user\\AppData\\Local\\Microsoft\\WindowsApps\\PythonSoftwareFoundation.Python.3.10_qbz5n2kfra8p0\\python.exe -m pip install --upgrade pip\n",
            "\n",
            "[notice] A new release of pip is available: 23.1.2 -> 24.2\n",
            "[notice] To update, run: C:\\Users\\user\\AppData\\Local\\Microsoft\\WindowsApps\\PythonSoftwareFoundation.Python.3.10_qbz5n2kfra8p0\\python.exe -m pip install --upgrade pip\n"
          ]
        },
        {
          "name": "stdout",
          "output_type": "stream",
          "text": [
            "Collecting numpy==1.23.1\n",
            "  Downloading numpy-1.23.1-cp310-cp310-win_amd64.whl (14.6 MB)\n",
            "                                              0.0/14.6 MB ? eta -:--:--\n",
            "                                              0.1/14.6 MB 3.6 MB/s eta 0:00:04\n",
            "     -                                        0.4/14.6 MB 4.6 MB/s eta 0:00:04\n",
            "     -                                        0.5/14.6 MB 4.3 MB/s eta 0:00:04\n",
            "     -                                        0.6/14.6 MB 4.1 MB/s eta 0:00:04\n",
            "     --                                       0.8/14.6 MB 3.5 MB/s eta 0:00:04\n",
            "     --                                       1.0/14.6 MB 3.5 MB/s eta 0:00:04\n",
            "     ---                                      1.2/14.6 MB 3.5 MB/s eta 0:00:04\n",
            "     ---                                      1.4/14.6 MB 3.5 MB/s eta 0:00:04\n",
            "     ----                                     1.6/14.6 MB 3.7 MB/s eta 0:00:04\n",
            "     ----                                     1.8/14.6 MB 3.7 MB/s eta 0:00:04\n",
            "     -----                                    1.9/14.6 MB 3.7 MB/s eta 0:00:04\n",
            "     -----                                    2.0/14.6 MB 3.5 MB/s eta 0:00:04\n",
            "     ------                                   2.3/14.6 MB 3.7 MB/s eta 0:00:04\n",
            "     ------                                   2.4/14.6 MB 3.6 MB/s eta 0:00:04\n",
            "     -------                                  2.6/14.6 MB 3.6 MB/s eta 0:00:04\n",
            "     -------                                  2.8/14.6 MB 3.7 MB/s eta 0:00:04\n",
            "     --------                                 3.0/14.6 MB 3.7 MB/s eta 0:00:04\n",
            "     --------                                 3.1/14.6 MB 3.6 MB/s eta 0:00:04\n",
            "     ---------                                3.3/14.6 MB 3.7 MB/s eta 0:00:04\n",
            "     ---------                                3.5/14.6 MB 3.7 MB/s eta 0:00:04\n",
            "     ---------                                3.6/14.6 MB 3.5 MB/s eta 0:00:04\n",
            "     ----------                               3.9/14.6 MB 3.6 MB/s eta 0:00:03\n",
            "     -----------                              4.1/14.6 MB 3.6 MB/s eta 0:00:03\n",
            "     -----------                              4.2/14.6 MB 3.6 MB/s eta 0:00:03\n",
            "     ------------                             4.4/14.6 MB 3.7 MB/s eta 0:00:03\n",
            "     ------------                             4.8/14.6 MB 3.8 MB/s eta 0:00:03\n",
            "     -------------                            5.0/14.6 MB 3.9 MB/s eta 0:00:03\n",
            "     --------------                           5.2/14.6 MB 3.9 MB/s eta 0:00:03\n",
            "     --------------                           5.5/14.6 MB 3.9 MB/s eta 0:00:03\n",
            "     ---------------                          5.7/14.6 MB 3.9 MB/s eta 0:00:03\n",
            "     ---------------                          5.8/14.6 MB 3.8 MB/s eta 0:00:03\n",
            "     ---------------                          5.8/14.6 MB 3.7 MB/s eta 0:00:03\n",
            "     ----------------                         5.9/14.6 MB 3.7 MB/s eta 0:00:03\n",
            "     ----------------                         5.9/14.6 MB 3.6 MB/s eta 0:00:03\n",
            "     ----------------                         6.0/14.6 MB 3.5 MB/s eta 0:00:03\n",
            "     ----------------                         6.1/14.6 MB 3.5 MB/s eta 0:00:03\n",
            "     ----------------                         6.1/14.6 MB 3.4 MB/s eta 0:00:03\n",
            "     ----------------                         6.2/14.6 MB 3.3 MB/s eta 0:00:03\n",
            "     -----------------                        6.2/14.6 MB 3.3 MB/s eta 0:00:03\n",
            "     -----------------                        6.3/14.6 MB 3.2 MB/s eta 0:00:03\n",
            "     -----------------                        6.3/14.6 MB 3.2 MB/s eta 0:00:03\n",
            "     -----------------                        6.4/14.6 MB 3.2 MB/s eta 0:00:03\n",
            "     -----------------                        6.4/14.6 MB 3.1 MB/s eta 0:00:03\n",
            "     -----------------                        6.5/14.6 MB 3.1 MB/s eta 0:00:03\n",
            "     -----------------                        6.6/14.6 MB 3.0 MB/s eta 0:00:03\n",
            "     ------------------                       6.6/14.6 MB 3.0 MB/s eta 0:00:03\n",
            "     ------------------                       6.7/14.6 MB 2.9 MB/s eta 0:00:03\n",
            "     ------------------                       6.7/14.6 MB 2.9 MB/s eta 0:00:03\n",
            "     ------------------                       6.8/14.6 MB 2.9 MB/s eta 0:00:03\n",
            "     ------------------                       6.8/14.6 MB 2.8 MB/s eta 0:00:03\n",
            "     ------------------                       6.9/14.6 MB 2.8 MB/s eta 0:00:03\n",
            "     ------------------                       6.9/14.6 MB 2.8 MB/s eta 0:00:03\n",
            "     -------------------                      7.0/14.6 MB 2.8 MB/s eta 0:00:03\n",
            "     -------------------                      7.1/14.6 MB 2.7 MB/s eta 0:00:03\n",
            "     -------------------                      7.1/14.6 MB 2.7 MB/s eta 0:00:03\n",
            "     -------------------                      7.2/14.6 MB 2.7 MB/s eta 0:00:03\n",
            "     -------------------                      7.2/14.6 MB 2.6 MB/s eta 0:00:03\n",
            "     -------------------                      7.3/14.6 MB 2.6 MB/s eta 0:00:03\n",
            "     --------------------                     7.3/14.6 MB 2.6 MB/s eta 0:00:03\n",
            "     --------------------                     7.4/14.6 MB 2.6 MB/s eta 0:00:03\n",
            "     --------------------                     7.4/14.6 MB 2.5 MB/s eta 0:00:03\n",
            "     --------------------                     7.5/14.6 MB 2.5 MB/s eta 0:00:03\n",
            "     --------------------                     7.6/14.6 MB 2.5 MB/s eta 0:00:03\n",
            "     --------------------                     7.6/14.6 MB 2.5 MB/s eta 0:00:03\n",
            "     --------------------                     7.7/14.6 MB 2.5 MB/s eta 0:00:03\n",
            "     ---------------------                    7.7/14.6 MB 2.4 MB/s eta 0:00:03\n",
            "     ---------------------                    7.8/14.6 MB 2.4 MB/s eta 0:00:03\n",
            "     ---------------------                    7.8/14.6 MB 2.4 MB/s eta 0:00:03\n",
            "     ---------------------                    7.9/14.6 MB 2.4 MB/s eta 0:00:03\n",
            "     ---------------------                    7.9/14.6 MB 2.4 MB/s eta 0:00:03\n",
            "     ---------------------                    8.0/14.6 MB 2.4 MB/s eta 0:00:03\n",
            "     ---------------------                    8.0/14.6 MB 2.3 MB/s eta 0:00:03\n",
            "     ----------------------                   8.1/14.6 MB 2.3 MB/s eta 0:00:03\n",
            "     ----------------------                   8.2/14.6 MB 2.3 MB/s eta 0:00:03\n",
            "     ----------------------                   8.2/14.6 MB 2.3 MB/s eta 0:00:03\n",
            "     ----------------------                   8.3/14.6 MB 2.3 MB/s eta 0:00:03\n",
            "     ----------------------                   8.3/14.6 MB 2.3 MB/s eta 0:00:03\n",
            "     ----------------------                   8.4/14.6 MB 2.2 MB/s eta 0:00:03\n",
            "     -----------------------                  8.4/14.6 MB 2.2 MB/s eta 0:00:03\n",
            "     -----------------------                  8.5/14.6 MB 2.2 MB/s eta 0:00:03\n",
            "     -----------------------                  8.5/14.6 MB 2.2 MB/s eta 0:00:03\n",
            "     -----------------------                  8.6/14.6 MB 2.2 MB/s eta 0:00:03\n",
            "     -----------------------                  8.7/14.6 MB 2.2 MB/s eta 0:00:03\n",
            "     -----------------------                  8.7/14.6 MB 2.2 MB/s eta 0:00:03\n",
            "     -----------------------                  8.8/14.6 MB 2.2 MB/s eta 0:00:03\n",
            "     ------------------------                 8.8/14.6 MB 2.1 MB/s eta 0:00:03\n",
            "     ------------------------                 8.9/14.6 MB 2.1 MB/s eta 0:00:03\n",
            "     ------------------------                 9.0/14.6 MB 2.1 MB/s eta 0:00:03\n",
            "     ------------------------                 9.0/14.6 MB 2.1 MB/s eta 0:00:03\n",
            "     ------------------------                 9.1/14.6 MB 2.1 MB/s eta 0:00:03\n",
            "     ------------------------                 9.1/14.6 MB 2.1 MB/s eta 0:00:03\n",
            "     -------------------------                9.2/14.6 MB 2.1 MB/s eta 0:00:03\n",
            "     -------------------------                9.3/14.6 MB 2.1 MB/s eta 0:00:03\n",
            "     -------------------------                9.3/14.6 MB 2.1 MB/s eta 0:00:03\n",
            "     -------------------------                9.4/14.6 MB 2.1 MB/s eta 0:00:03\n",
            "     -------------------------                9.4/14.6 MB 2.0 MB/s eta 0:00:03\n",
            "     -------------------------                9.5/14.6 MB 2.0 MB/s eta 0:00:03\n",
            "     --------------------------               9.5/14.6 MB 2.0 MB/s eta 0:00:03\n",
            "     --------------------------               9.6/14.6 MB 2.0 MB/s eta 0:00:03\n",
            "     --------------------------               9.6/14.6 MB 2.0 MB/s eta 0:00:03\n",
            "     --------------------------               9.7/14.6 MB 2.0 MB/s eta 0:00:03\n",
            "     --------------------------               9.8/14.6 MB 2.0 MB/s eta 0:00:03\n",
            "     --------------------------               9.8/14.6 MB 2.0 MB/s eta 0:00:03\n",
            "     --------------------------               9.9/14.6 MB 2.0 MB/s eta 0:00:03\n",
            "     ---------------------------              9.9/14.6 MB 2.0 MB/s eta 0:00:03\n",
            "     ---------------------------              10.0/14.6 MB 2.0 MB/s eta 0:00:03\n",
            "     ---------------------------              10.1/14.6 MB 1.9 MB/s eta 0:00:03\n",
            "     ---------------------------              10.2/14.6 MB 1.9 MB/s eta 0:00:03\n",
            "     ---------------------------              10.2/14.6 MB 1.9 MB/s eta 0:00:03\n",
            "     ----------------------------             10.3/14.6 MB 1.9 MB/s eta 0:00:03\n",
            "     ----------------------------             10.3/14.6 MB 1.9 MB/s eta 0:00:03\n",
            "     ----------------------------             10.4/14.6 MB 1.9 MB/s eta 0:00:03\n",
            "     ----------------------------             10.4/14.6 MB 1.9 MB/s eta 0:00:03\n",
            "     ----------------------------             10.5/14.6 MB 1.9 MB/s eta 0:00:03\n",
            "     ----------------------------             10.5/14.6 MB 1.9 MB/s eta 0:00:03\n",
            "     ----------------------------             10.6/14.6 MB 1.8 MB/s eta 0:00:03\n",
            "     -----------------------------            10.7/14.6 MB 1.8 MB/s eta 0:00:03\n",
            "     -----------------------------            10.7/14.6 MB 1.8 MB/s eta 0:00:03\n",
            "     -----------------------------            10.8/14.6 MB 1.8 MB/s eta 0:00:03\n",
            "     -----------------------------            10.8/14.6 MB 1.8 MB/s eta 0:00:03\n",
            "     -----------------------------            10.9/14.6 MB 1.8 MB/s eta 0:00:03\n",
            "     -----------------------------            10.9/14.6 MB 1.8 MB/s eta 0:00:03\n",
            "     ------------------------------           11.0/14.6 MB 1.8 MB/s eta 0:00:03\n",
            "     ------------------------------           11.1/14.6 MB 1.8 MB/s eta 0:00:03\n",
            "     ------------------------------           11.1/14.6 MB 1.8 MB/s eta 0:00:02\n",
            "     ------------------------------           11.2/14.6 MB 1.7 MB/s eta 0:00:02\n",
            "     ------------------------------           11.2/14.6 MB 1.7 MB/s eta 0:00:02\n",
            "     ------------------------------           11.3/14.6 MB 1.7 MB/s eta 0:00:02\n",
            "     ------------------------------           11.3/14.6 MB 1.7 MB/s eta 0:00:02\n",
            "     -------------------------------          11.4/14.6 MB 1.7 MB/s eta 0:00:02\n",
            "     -------------------------------          11.5/14.6 MB 1.7 MB/s eta 0:00:02\n",
            "     -------------------------------          11.5/14.6 MB 1.7 MB/s eta 0:00:02\n",
            "     -------------------------------          11.6/14.6 MB 1.7 MB/s eta 0:00:02\n",
            "     -------------------------------          11.6/14.6 MB 1.7 MB/s eta 0:00:02\n",
            "     -------------------------------          11.7/14.6 MB 1.7 MB/s eta 0:00:02\n",
            "     --------------------------------         11.7/14.6 MB 1.7 MB/s eta 0:00:02\n",
            "     --------------------------------         11.8/14.6 MB 1.6 MB/s eta 0:00:02\n",
            "     --------------------------------         11.8/14.6 MB 1.6 MB/s eta 0:00:02\n",
            "     --------------------------------         11.9/14.6 MB 1.6 MB/s eta 0:00:02\n",
            "     --------------------------------         12.0/14.6 MB 1.6 MB/s eta 0:00:02\n",
            "     --------------------------------         12.0/14.6 MB 1.6 MB/s eta 0:00:02\n",
            "     --------------------------------         12.1/14.6 MB 1.6 MB/s eta 0:00:02\n",
            "     ---------------------------------        12.1/14.6 MB 1.6 MB/s eta 0:00:02\n",
            "     ---------------------------------        12.2/14.6 MB 1.6 MB/s eta 0:00:02\n",
            "     ---------------------------------        12.2/14.6 MB 1.6 MB/s eta 0:00:02\n",
            "     ---------------------------------        12.3/14.6 MB 1.6 MB/s eta 0:00:02\n",
            "     ---------------------------------        12.3/14.6 MB 1.6 MB/s eta 0:00:02\n",
            "     ---------------------------------        12.4/14.6 MB 1.6 MB/s eta 0:00:02\n",
            "     ----------------------------------       12.5/14.6 MB 1.5 MB/s eta 0:00:02\n",
            "     ----------------------------------       12.5/14.6 MB 1.5 MB/s eta 0:00:02\n",
            "     ----------------------------------       12.6/14.6 MB 1.5 MB/s eta 0:00:02\n",
            "     ----------------------------------       12.6/14.6 MB 1.5 MB/s eta 0:00:02\n",
            "     ----------------------------------       12.7/14.6 MB 1.5 MB/s eta 0:00:02\n",
            "     ----------------------------------       12.7/14.6 MB 1.5 MB/s eta 0:00:02\n",
            "     ----------------------------------       12.8/14.6 MB 1.5 MB/s eta 0:00:02\n",
            "     -----------------------------------      12.8/14.6 MB 1.5 MB/s eta 0:00:02\n",
            "     -----------------------------------      12.9/14.6 MB 1.5 MB/s eta 0:00:02\n",
            "     -----------------------------------      13.0/14.6 MB 1.5 MB/s eta 0:00:02\n",
            "     -----------------------------------      13.0/14.6 MB 1.5 MB/s eta 0:00:02\n",
            "     -----------------------------------      13.1/14.6 MB 1.5 MB/s eta 0:00:02\n",
            "     -----------------------------------      13.1/14.6 MB 1.5 MB/s eta 0:00:02\n",
            "     -----------------------------------      13.2/14.6 MB 1.5 MB/s eta 0:00:02\n",
            "     ------------------------------------     13.2/14.6 MB 1.5 MB/s eta 0:00:01\n",
            "     ------------------------------------     13.3/14.6 MB 1.4 MB/s eta 0:00:01\n",
            "     ------------------------------------     13.3/14.6 MB 1.4 MB/s eta 0:00:01\n",
            "     ------------------------------------     13.4/14.6 MB 1.4 MB/s eta 0:00:01\n",
            "     ------------------------------------     13.4/14.6 MB 1.4 MB/s eta 0:00:01\n",
            "     ------------------------------------     13.5/14.6 MB 1.4 MB/s eta 0:00:01\n",
            "     -------------------------------------    13.6/14.6 MB 1.4 MB/s eta 0:00:01\n",
            "     -------------------------------------    13.6/14.6 MB 1.4 MB/s eta 0:00:01\n",
            "     -------------------------------------    13.7/14.6 MB 1.4 MB/s eta 0:00:01\n",
            "     -------------------------------------    13.7/14.6 MB 1.4 MB/s eta 0:00:01\n",
            "     -------------------------------------    13.8/14.6 MB 1.4 MB/s eta 0:00:01\n",
            "     -------------------------------------    13.8/14.6 MB 1.4 MB/s eta 0:00:01\n",
            "     -------------------------------------    13.9/14.6 MB 1.4 MB/s eta 0:00:01\n",
            "     --------------------------------------   13.9/14.6 MB 1.4 MB/s eta 0:00:01\n",
            "     --------------------------------------   14.0/14.6 MB 1.4 MB/s eta 0:00:01\n",
            "     --------------------------------------   14.0/14.6 MB 1.4 MB/s eta 0:00:01\n",
            "     --------------------------------------   14.1/14.6 MB 1.4 MB/s eta 0:00:01\n",
            "     --------------------------------------   14.2/14.6 MB 1.3 MB/s eta 0:00:01\n",
            "     --------------------------------------   14.2/14.6 MB 1.3 MB/s eta 0:00:01\n",
            "     --------------------------------------   14.3/14.6 MB 1.3 MB/s eta 0:00:01\n",
            "     ---------------------------------------  14.3/14.6 MB 1.3 MB/s eta 0:00:01\n",
            "     ---------------------------------------  14.4/14.6 MB 1.3 MB/s eta 0:00:01\n",
            "     ---------------------------------------  14.4/14.6 MB 1.3 MB/s eta 0:00:01\n",
            "     ---------------------------------------  14.5/14.6 MB 1.3 MB/s eta 0:00:01\n",
            "     ---------------------------------------  14.6/14.6 MB 1.3 MB/s eta 0:00:01\n",
            "     ---------------------------------------  14.6/14.6 MB 1.3 MB/s eta 0:00:01\n",
            "     ---------------------------------------  14.6/14.6 MB 1.3 MB/s eta 0:00:01\n",
            "     ---------------------------------------  14.6/14.6 MB 1.3 MB/s eta 0:00:01\n",
            "     ---------------------------------------- 14.6/14.6 MB 1.3 MB/s eta 0:00:00\n",
            "Installing collected packages: numpy\n",
            "  Attempting uninstall: numpy\n",
            "    Found existing installation: numpy 1.26.4\n",
            "    Uninstalling numpy-1.26.4:\n",
            "      Successfully uninstalled numpy-1.26.4\n",
            "Successfully installed numpy-1.23.1\n",
            "Requirement already satisfied: pandas==2.0.3 in c:\\users\\user\\appdata\\local\\packages\\pythonsoftwarefoundation.python.3.10_qbz5n2kfra8p0\\localcache\\local-packages\\python310\\site-packages (2.0.3)\n",
            "Requirement already satisfied: python-dateutil>=2.8.2 in c:\\users\\user\\appdata\\local\\packages\\pythonsoftwarefoundation.python.3.10_qbz5n2kfra8p0\\localcache\\local-packages\\python310\\site-packages (from pandas==2.0.3) (2.8.2)\n",
            "Requirement already satisfied: pytz>=2020.1 in c:\\users\\user\\appdata\\local\\packages\\pythonsoftwarefoundation.python.3.10_qbz5n2kfra8p0\\localcache\\local-packages\\python310\\site-packages (from pandas==2.0.3) (2023.3)\n",
            "Requirement already satisfied: tzdata>=2022.1 in c:\\users\\user\\appdata\\local\\packages\\pythonsoftwarefoundation.python.3.10_qbz5n2kfra8p0\\localcache\\local-packages\\python310\\site-packages (from pandas==2.0.3) (2023.3)\n",
            "Requirement already satisfied: numpy>=1.21.0 in c:\\users\\user\\appdata\\local\\packages\\pythonsoftwarefoundation.python.3.10_qbz5n2kfra8p0\\localcache\\local-packages\\python310\\site-packages (from pandas==2.0.3) (1.23.1)\n",
            "Requirement already satisfied: six>=1.5 in c:\\users\\user\\appdata\\local\\packages\\pythonsoftwarefoundation.python.3.10_qbz5n2kfra8p0\\localcache\\local-packages\\python310\\site-packages (from python-dateutil>=2.8.2->pandas==2.0.3) (1.16.0)\n"
          ]
        },
        {
          "name": "stderr",
          "output_type": "stream",
          "text": [
            "\n",
            "[notice] A new release of pip is available: 23.1.2 -> 24.2\n",
            "[notice] To update, run: C:\\Users\\user\\AppData\\Local\\Microsoft\\WindowsApps\\PythonSoftwareFoundation.Python.3.10_qbz5n2kfra8p0\\python.exe -m pip install --upgrade pip\n"
          ]
        },
        {
          "name": "stdout",
          "output_type": "stream",
          "text": [
            "Collecting seaborn==0.12.2\n",
            "  Downloading seaborn-0.12.2-py3-none-any.whl (293 kB)\n",
            "                                              0.0/293.3 kB ? eta -:--:--\n",
            "     ---------------                        122.9/293.3 kB 2.4 MB/s eta 0:00:01\n",
            "     -------------------------------------  286.7/293.3 kB 2.9 MB/s eta 0:00:01\n",
            "     -------------------------------------  286.7/293.3 kB 2.9 MB/s eta 0:00:01\n",
            "     -------------------------------------- 293.3/293.3 kB 1.6 MB/s eta 0:00:00\n",
            "Requirement already satisfied: numpy!=1.24.0,>=1.17 in c:\\users\\user\\appdata\\local\\packages\\pythonsoftwarefoundation.python.3.10_qbz5n2kfra8p0\\localcache\\local-packages\\python310\\site-packages (from seaborn==0.12.2) (1.23.1)\n",
            "Requirement already satisfied: pandas>=0.25 in c:\\users\\user\\appdata\\local\\packages\\pythonsoftwarefoundation.python.3.10_qbz5n2kfra8p0\\localcache\\local-packages\\python310\\site-packages (from seaborn==0.12.2) (2.0.3)\n",
            "Requirement already satisfied: matplotlib!=3.6.1,>=3.1 in c:\\users\\user\\appdata\\local\\packages\\pythonsoftwarefoundation.python.3.10_qbz5n2kfra8p0\\localcache\\local-packages\\python310\\site-packages (from seaborn==0.12.2) (3.7.1)\n",
            "Requirement already satisfied: contourpy>=1.0.1 in c:\\users\\user\\appdata\\local\\packages\\pythonsoftwarefoundation.python.3.10_qbz5n2kfra8p0\\localcache\\local-packages\\python310\\site-packages (from matplotlib!=3.6.1,>=3.1->seaborn==0.12.2) (1.0.7)\n",
            "Requirement already satisfied: cycler>=0.10 in c:\\users\\user\\appdata\\local\\packages\\pythonsoftwarefoundation.python.3.10_qbz5n2kfra8p0\\localcache\\local-packages\\python310\\site-packages (from matplotlib!=3.6.1,>=3.1->seaborn==0.12.2) (0.11.0)\n",
            "Requirement already satisfied: fonttools>=4.22.0 in c:\\users\\user\\appdata\\local\\packages\\pythonsoftwarefoundation.python.3.10_qbz5n2kfra8p0\\localcache\\local-packages\\python310\\site-packages (from matplotlib!=3.6.1,>=3.1->seaborn==0.12.2) (4.38.0)\n",
            "Requirement already satisfied: kiwisolver>=1.0.1 in c:\\users\\user\\appdata\\local\\packages\\pythonsoftwarefoundation.python.3.10_qbz5n2kfra8p0\\localcache\\local-packages\\python310\\site-packages (from matplotlib!=3.6.1,>=3.1->seaborn==0.12.2) (1.4.4)\n",
            "Requirement already satisfied: packaging>=20.0 in c:\\users\\user\\appdata\\local\\packages\\pythonsoftwarefoundation.python.3.10_qbz5n2kfra8p0\\localcache\\local-packages\\python310\\site-packages (from matplotlib!=3.6.1,>=3.1->seaborn==0.12.2) (23.0)\n",
            "Requirement already satisfied: pillow>=6.2.0 in c:\\users\\user\\appdata\\local\\packages\\pythonsoftwarefoundation.python.3.10_qbz5n2kfra8p0\\localcache\\local-packages\\python310\\site-packages (from matplotlib!=3.6.1,>=3.1->seaborn==0.12.2) (9.4.0)\n",
            "Requirement already satisfied: pyparsing>=2.3.1 in c:\\users\\user\\appdata\\local\\packages\\pythonsoftwarefoundation.python.3.10_qbz5n2kfra8p0\\localcache\\local-packages\\python310\\site-packages (from matplotlib!=3.6.1,>=3.1->seaborn==0.12.2) (3.0.9)\n",
            "Requirement already satisfied: python-dateutil>=2.7 in c:\\users\\user\\appdata\\local\\packages\\pythonsoftwarefoundation.python.3.10_qbz5n2kfra8p0\\localcache\\local-packages\\python310\\site-packages (from matplotlib!=3.6.1,>=3.1->seaborn==0.12.2) (2.8.2)\n",
            "Requirement already satisfied: pytz>=2020.1 in c:\\users\\user\\appdata\\local\\packages\\pythonsoftwarefoundation.python.3.10_qbz5n2kfra8p0\\localcache\\local-packages\\python310\\site-packages (from pandas>=0.25->seaborn==0.12.2) (2023.3)\n",
            "Requirement already satisfied: tzdata>=2022.1 in c:\\users\\user\\appdata\\local\\packages\\pythonsoftwarefoundation.python.3.10_qbz5n2kfra8p0\\localcache\\local-packages\\python310\\site-packages (from pandas>=0.25->seaborn==0.12.2) (2023.3)\n",
            "Requirement already satisfied: six>=1.5 in c:\\users\\user\\appdata\\local\\packages\\pythonsoftwarefoundation.python.3.10_qbz5n2kfra8p0\\localcache\\local-packages\\python310\\site-packages (from python-dateutil>=2.7->matplotlib!=3.6.1,>=3.1->seaborn==0.12.2) (1.16.0)\n",
            "Installing collected packages: seaborn\n",
            "  Attempting uninstall: seaborn\n",
            "    Found existing installation: seaborn 0.13.2\n",
            "    Uninstalling seaborn-0.13.2:\n",
            "      Successfully uninstalled seaborn-0.13.2\n",
            "Successfully installed seaborn-0.12.2\n"
          ]
        },
        {
          "name": "stderr",
          "output_type": "stream",
          "text": [
            "\n",
            "[notice] A new release of pip is available: 23.1.2 -> 24.2\n",
            "[notice] To update, run: C:\\Users\\user\\AppData\\Local\\Microsoft\\WindowsApps\\PythonSoftwareFoundation.Python.3.10_qbz5n2kfra8p0\\python.exe -m pip install --upgrade pip\n"
          ]
        },
        {
          "name": "stdout",
          "output_type": "stream",
          "text": [
            "Collecting scikit-learn==1.3.0\n",
            "  Downloading scikit_learn-1.3.0-cp310-cp310-win_amd64.whl (9.2 MB)\n",
            "                                              0.0/9.2 MB ? eta -:--:--\n",
            "                                              0.1/9.2 MB 3.5 MB/s eta 0:00:03\n",
            "     -                                        0.3/9.2 MB 3.2 MB/s eta 0:00:03\n",
            "     -                                        0.4/9.2 MB 3.5 MB/s eta 0:00:03\n",
            "     --                                       0.6/9.2 MB 3.2 MB/s eta 0:00:03\n",
            "     --                                       0.6/9.2 MB 3.1 MB/s eta 0:00:03\n",
            "     ---                                      0.9/9.2 MB 3.3 MB/s eta 0:00:03\n",
            "     ----                                     1.1/9.2 MB 3.5 MB/s eta 0:00:03\n",
            "     -----                                    1.2/9.2 MB 3.4 MB/s eta 0:00:03\n",
            "     -----                                    1.4/9.2 MB 3.3 MB/s eta 0:00:03\n",
            "     ------                                   1.5/9.2 MB 3.1 MB/s eta 0:00:03\n",
            "     ------                                   1.6/9.2 MB 3.0 MB/s eta 0:00:03\n",
            "     -------                                  1.7/9.2 MB 3.0 MB/s eta 0:00:03\n",
            "     -------                                  1.8/9.2 MB 2.9 MB/s eta 0:00:03\n",
            "     -------                                  1.8/9.2 MB 2.8 MB/s eta 0:00:03\n",
            "     --------                                 1.9/9.2 MB 2.8 MB/s eta 0:00:03\n",
            "     --------                                 2.1/9.2 MB 2.8 MB/s eta 0:00:03\n",
            "     ---------                                2.2/9.2 MB 2.7 MB/s eta 0:00:03\n",
            "     ----------                               2.4/9.2 MB 2.8 MB/s eta 0:00:03\n",
            "     ----------                               2.5/9.2 MB 2.8 MB/s eta 0:00:03\n",
            "     -----------                              2.6/9.2 MB 2.8 MB/s eta 0:00:03\n",
            "     ------------                             2.8/9.2 MB 2.8 MB/s eta 0:00:03\n",
            "     ------------                             3.0/9.2 MB 2.9 MB/s eta 0:00:03\n",
            "     -------------                            3.2/9.2 MB 2.9 MB/s eta 0:00:03\n",
            "     --------------                           3.3/9.2 MB 2.9 MB/s eta 0:00:03\n",
            "     ---------------                          3.5/9.2 MB 2.9 MB/s eta 0:00:02\n",
            "     ---------------                          3.5/9.2 MB 2.9 MB/s eta 0:00:02\n",
            "     ----------------                         3.8/9.2 MB 2.9 MB/s eta 0:00:02\n",
            "     -----------------                        4.0/9.2 MB 3.0 MB/s eta 0:00:02\n",
            "     ------------------                       4.2/9.2 MB 3.0 MB/s eta 0:00:02\n",
            "     -------------------                      4.4/9.2 MB 3.1 MB/s eta 0:00:02\n",
            "     --------------------                     4.7/9.2 MB 3.1 MB/s eta 0:00:02\n",
            "     --------------------                     4.8/9.2 MB 3.2 MB/s eta 0:00:02\n",
            "     ---------------------                    5.0/9.2 MB 3.1 MB/s eta 0:00:02\n",
            "     ----------------------                   5.2/9.2 MB 3.2 MB/s eta 0:00:02\n",
            "     -----------------------                  5.3/9.2 MB 3.2 MB/s eta 0:00:02\n",
            "     ------------------------                 5.6/9.2 MB 3.2 MB/s eta 0:00:02\n",
            "     -------------------------                5.9/9.2 MB 3.3 MB/s eta 0:00:02\n",
            "     --------------------------               6.1/9.2 MB 3.3 MB/s eta 0:00:01\n",
            "     --------------------------               6.2/9.2 MB 3.3 MB/s eta 0:00:01\n",
            "     ---------------------------              6.3/9.2 MB 3.2 MB/s eta 0:00:01\n",
            "     ---------------------------              6.3/9.2 MB 3.2 MB/s eta 0:00:01\n",
            "     ---------------------------              6.4/9.2 MB 3.2 MB/s eta 0:00:01\n",
            "     ---------------------------              6.4/9.2 MB 3.1 MB/s eta 0:00:01\n",
            "     ----------------------------             6.5/9.2 MB 3.1 MB/s eta 0:00:01\n",
            "     ----------------------------             6.6/9.2 MB 3.0 MB/s eta 0:00:01\n",
            "     ----------------------------             6.6/9.2 MB 3.0 MB/s eta 0:00:01\n",
            "     ----------------------------             6.6/9.2 MB 2.9 MB/s eta 0:00:01\n",
            "     ----------------------------             6.7/9.2 MB 2.9 MB/s eta 0:00:01\n",
            "     -----------------------------            6.8/9.2 MB 2.9 MB/s eta 0:00:01\n",
            "     -----------------------------            6.8/9.2 MB 2.8 MB/s eta 0:00:01\n",
            "     -----------------------------            6.9/9.2 MB 2.8 MB/s eta 0:00:01\n",
            "     -----------------------------            6.9/9.2 MB 2.8 MB/s eta 0:00:01\n",
            "     ------------------------------           7.0/9.2 MB 2.7 MB/s eta 0:00:01\n",
            "     ------------------------------           7.1/9.2 MB 2.7 MB/s eta 0:00:01\n",
            "     ------------------------------           7.1/9.2 MB 2.7 MB/s eta 0:00:01\n",
            "     ------------------------------           7.2/9.2 MB 2.7 MB/s eta 0:00:01\n",
            "     -------------------------------          7.2/9.2 MB 2.6 MB/s eta 0:00:01\n",
            "     -------------------------------          7.3/9.2 MB 2.6 MB/s eta 0:00:01\n",
            "     -------------------------------          7.3/9.2 MB 2.6 MB/s eta 0:00:01\n",
            "     -------------------------------          7.4/9.2 MB 2.6 MB/s eta 0:00:01\n",
            "     --------------------------------         7.4/9.2 MB 2.5 MB/s eta 0:00:01\n",
            "     --------------------------------         7.5/9.2 MB 2.5 MB/s eta 0:00:01\n",
            "     --------------------------------         7.5/9.2 MB 2.5 MB/s eta 0:00:01\n",
            "     --------------------------------         7.6/9.2 MB 2.5 MB/s eta 0:00:01\n",
            "     ---------------------------------        7.6/9.2 MB 2.5 MB/s eta 0:00:01\n",
            "     ---------------------------------        7.7/9.2 MB 2.4 MB/s eta 0:00:01\n",
            "     ---------------------------------        7.8/9.2 MB 2.4 MB/s eta 0:00:01\n",
            "     ---------------------------------        7.8/9.2 MB 2.4 MB/s eta 0:00:01\n",
            "     ----------------------------------       7.9/9.2 MB 2.4 MB/s eta 0:00:01\n",
            "     ----------------------------------       7.9/9.2 MB 2.4 MB/s eta 0:00:01\n",
            "     ----------------------------------       8.0/9.2 MB 2.3 MB/s eta 0:00:01\n",
            "     ----------------------------------       8.0/9.2 MB 2.3 MB/s eta 0:00:01\n",
            "     -----------------------------------      8.1/9.2 MB 2.3 MB/s eta 0:00:01\n",
            "     -----------------------------------      8.1/9.2 MB 2.3 MB/s eta 0:00:01\n",
            "     -----------------------------------      8.2/9.2 MB 2.3 MB/s eta 0:00:01\n",
            "     -----------------------------------      8.3/9.2 MB 2.3 MB/s eta 0:00:01\n",
            "     -----------------------------------      8.3/9.2 MB 2.3 MB/s eta 0:00:01\n",
            "     ------------------------------------     8.4/9.2 MB 2.2 MB/s eta 0:00:01\n",
            "     ------------------------------------     8.4/9.2 MB 2.2 MB/s eta 0:00:01\n",
            "     ------------------------------------     8.5/9.2 MB 2.2 MB/s eta 0:00:01\n",
            "     ------------------------------------     8.5/9.2 MB 2.2 MB/s eta 0:00:01\n",
            "     -------------------------------------    8.6/9.2 MB 2.2 MB/s eta 0:00:01\n",
            "     -------------------------------------    8.6/9.2 MB 2.2 MB/s eta 0:00:01\n",
            "     -------------------------------------    8.7/9.2 MB 2.2 MB/s eta 0:00:01\n",
            "     -------------------------------------    8.7/9.2 MB 2.2 MB/s eta 0:00:01\n",
            "     --------------------------------------   8.8/9.2 MB 2.2 MB/s eta 0:00:01\n",
            "     --------------------------------------   8.9/9.2 MB 2.1 MB/s eta 0:00:01\n",
            "     --------------------------------------   8.9/9.2 MB 2.1 MB/s eta 0:00:01\n",
            "     --------------------------------------   9.0/9.2 MB 2.1 MB/s eta 0:00:01\n",
            "     ---------------------------------------  9.0/9.2 MB 2.1 MB/s eta 0:00:01\n",
            "     ---------------------------------------  9.1/9.2 MB 2.1 MB/s eta 0:00:01\n",
            "     ---------------------------------------  9.1/9.2 MB 2.1 MB/s eta 0:00:01\n",
            "     ---------------------------------------  9.2/9.2 MB 2.1 MB/s eta 0:00:01\n",
            "     ---------------------------------------  9.2/9.2 MB 2.1 MB/s eta 0:00:01\n",
            "     ---------------------------------------  9.2/9.2 MB 2.1 MB/s eta 0:00:01\n",
            "     ---------------------------------------- 9.2/9.2 MB 2.0 MB/s eta 0:00:00\n",
            "Requirement already satisfied: numpy>=1.17.3 in c:\\users\\user\\appdata\\local\\packages\\pythonsoftwarefoundation.python.3.10_qbz5n2kfra8p0\\localcache\\local-packages\\python310\\site-packages (from scikit-learn==1.3.0) (1.23.1)\n",
            "Requirement already satisfied: scipy>=1.5.0 in c:\\users\\user\\appdata\\local\\packages\\pythonsoftwarefoundation.python.3.10_qbz5n2kfra8p0\\localcache\\local-packages\\python310\\site-packages (from scikit-learn==1.3.0) (1.13.0)\n",
            "Requirement already satisfied: joblib>=1.1.1 in c:\\users\\user\\appdata\\local\\packages\\pythonsoftwarefoundation.python.3.10_qbz5n2kfra8p0\\localcache\\local-packages\\python310\\site-packages (from scikit-learn==1.3.0) (1.4.2)\n",
            "Requirement already satisfied: threadpoolctl>=2.0.0 in c:\\users\\user\\appdata\\local\\packages\\pythonsoftwarefoundation.python.3.10_qbz5n2kfra8p0\\localcache\\local-packages\\python310\\site-packages (from scikit-learn==1.3.0) (3.5.0)\n",
            "Installing collected packages: scikit-learn\n",
            "  Attempting uninstall: scikit-learn\n",
            "    Found existing installation: scikit-learn 1.4.2\n",
            "    Uninstalling scikit-learn-1.4.2:\n",
            "      Successfully uninstalled scikit-learn-1.4.2\n",
            "Successfully installed scikit-learn-1.3.0\n"
          ]
        },
        {
          "name": "stderr",
          "output_type": "stream",
          "text": [
            "\n",
            "[notice] A new release of pip is available: 23.1.2 -> 24.2\n",
            "[notice] To update, run: C:\\Users\\user\\AppData\\Local\\Microsoft\\WindowsApps\\PythonSoftwareFoundation.Python.3.10_qbz5n2kfra8p0\\python.exe -m pip install --upgrade pip\n"
          ]
        },
        {
          "name": "stdout",
          "output_type": "stream",
          "text": [
            "^C\n"
          ]
        }
      ],
      "source": [
        "!pip install gymnasium==0.28.1\n",
        "!pip install ipykernel==6.19.2\n",
        "!pip install matplotlib==3.7.1\n",
        "!pip install numpy==1.23.1\n",
        "!pip install pandas==2.0.3\n",
        "!pip install seaborn==0.12.2\n",
        "!pip install scikit-learn==1.3.0\n",
        "!pip install tensorflow==2.10.0\n",
        "!pip install tensorflow-datasets==1.2.0\n",
        "!pip install transformers==4.29.2"
      ]
    },
    {
      "cell_type": "code",
      "execution_count": null,
      "metadata": {
        "colab": {
          "base_uri": "https://localhost:8080/"
        },
        "id": "VVlVDmU3DqBj",
        "outputId": "ed26b7dc-d6e8-4a34-97ed-e60722604f28"
      },
      "outputs": [
        {
          "name": "stdout",
          "output_type": "stream",
          "text": [
            "Please provide your Kaggle credentials to download this dataset. Learn more: http://bit.ly/kaggle-creds\n",
            "Your Kaggle username: axxxellll\n",
            "Your Kaggle Key: ··········\n",
            "Dataset URL: https://www.kaggle.com/datasets/preetviradiya/brian-tumor-dataset\n",
            "Downloading brian-tumor-dataset.zip to ./brian-tumor-dataset\n"
          ]
        },
        {
          "name": "stderr",
          "output_type": "stream",
          "text": [
            "100%|██████████| 107M/107M [00:01<00:00, 89.9MB/s]\n"
          ]
        },
        {
          "name": "stdout",
          "output_type": "stream",
          "text": [
            "\n"
          ]
        }
      ],
      "source": [
        "import opendatasets as od\n",
        "\n",
        "od.download('https://www.kaggle.com/datasets/preetviradiya/brian-tumor-dataset', force =True)"
      ]
    },
    {
      "cell_type": "code",
      "execution_count": null,
      "metadata": {
        "colab": {
          "base_uri": "https://localhost:8080/",
          "height": 206
        },
        "id": "uJhdA6vm4BU4",
        "outputId": "4fcc0cfd-4ecf-4a10-f7d7-5cf5557e0517"
      },
      "outputs": [
        {
          "data": {
            "application/vnd.google.colaboratory.intrinsic+json": {
              "summary": "{\n  \"name\": \"df\",\n  \"rows\": 4600,\n  \"fields\": [\n    {\n      \"column\": \"Unnamed: 0\",\n      \"properties\": {\n        \"dtype\": \"number\",\n        \"std\": 1328,\n        \"min\": 0,\n        \"max\": 4599,\n        \"num_unique_values\": 4600,\n        \"samples\": [\n          3683,\n          4411,\n          2584\n        ],\n        \"semantic_type\": \"\",\n        \"description\": \"\"\n      }\n    },\n    {\n      \"column\": \"image\",\n      \"properties\": {\n        \"dtype\": \"string\",\n        \"num_unique_values\": 4600,\n        \"samples\": [\n          \"Not Cancer  (2049).jpg\",\n          \"Not Cancer  (829).jpg\",\n          \"Not Cancer  (1060).jpg\"\n        ],\n        \"semantic_type\": \"\",\n        \"description\": \"\"\n      }\n    },\n    {\n      \"column\": \"class\",\n      \"properties\": {\n        \"dtype\": \"category\",\n        \"num_unique_values\": 2,\n        \"samples\": [\n          \"normal\",\n          \"tumor\"\n        ],\n        \"semantic_type\": \"\",\n        \"description\": \"\"\n      }\n    },\n    {\n      \"column\": \"format\",\n      \"properties\": {\n        \"dtype\": \"category\",\n        \"num_unique_values\": 3,\n        \"samples\": [\n          \"JPEG\",\n          \"PNG\"\n        ],\n        \"semantic_type\": \"\",\n        \"description\": \"\"\n      }\n    },\n    {\n      \"column\": \"mode\",\n      \"properties\": {\n        \"dtype\": \"category\",\n        \"num_unique_values\": 4,\n        \"samples\": [\n          \"L\",\n          \"P\"\n        ],\n        \"semantic_type\": \"\",\n        \"description\": \"\"\n      }\n    },\n    {\n      \"column\": \"shape\",\n      \"properties\": {\n        \"dtype\": \"category\",\n        \"num_unique_values\": 475,\n        \"samples\": [\n          \"(232, 236, 3)\",\n          \"(470, 469, 3)\"\n        ],\n        \"semantic_type\": \"\",\n        \"description\": \"\"\n      }\n    }\n  ]\n}",
              "type": "dataframe",
              "variable_name": "df"
            },
            "text/html": [
              "\n",
              "  <div id=\"df-1c3770bb-7cfe-4b0a-a864-0d0e12f9bb37\" class=\"colab-df-container\">\n",
              "    <div>\n",
              "<style scoped>\n",
              "    .dataframe tbody tr th:only-of-type {\n",
              "        vertical-align: middle;\n",
              "    }\n",
              "\n",
              "    .dataframe tbody tr th {\n",
              "        vertical-align: top;\n",
              "    }\n",
              "\n",
              "    .dataframe thead th {\n",
              "        text-align: right;\n",
              "    }\n",
              "</style>\n",
              "<table border=\"1\" class=\"dataframe\">\n",
              "  <thead>\n",
              "    <tr style=\"text-align: right;\">\n",
              "      <th></th>\n",
              "      <th>Unnamed: 0</th>\n",
              "      <th>image</th>\n",
              "      <th>class</th>\n",
              "      <th>format</th>\n",
              "      <th>mode</th>\n",
              "      <th>shape</th>\n",
              "    </tr>\n",
              "  </thead>\n",
              "  <tbody>\n",
              "    <tr>\n",
              "      <th>0</th>\n",
              "      <td>0</td>\n",
              "      <td>Cancer (1).jpg</td>\n",
              "      <td>tumor</td>\n",
              "      <td>JPEG</td>\n",
              "      <td>RGB</td>\n",
              "      <td>(512, 512, 3)</td>\n",
              "    </tr>\n",
              "    <tr>\n",
              "      <th>1</th>\n",
              "      <td>1</td>\n",
              "      <td>Cancer (1).png</td>\n",
              "      <td>tumor</td>\n",
              "      <td>PNG</td>\n",
              "      <td>L</td>\n",
              "      <td>(300, 240)</td>\n",
              "    </tr>\n",
              "    <tr>\n",
              "      <th>2</th>\n",
              "      <td>2</td>\n",
              "      <td>Cancer (1).tif</td>\n",
              "      <td>tumor</td>\n",
              "      <td>TIFF</td>\n",
              "      <td>RGB</td>\n",
              "      <td>(256, 256, 3)</td>\n",
              "    </tr>\n",
              "    <tr>\n",
              "      <th>3</th>\n",
              "      <td>3</td>\n",
              "      <td>Cancer (10).jpg</td>\n",
              "      <td>tumor</td>\n",
              "      <td>JPEG</td>\n",
              "      <td>RGB</td>\n",
              "      <td>(512, 512, 3)</td>\n",
              "    </tr>\n",
              "    <tr>\n",
              "      <th>4</th>\n",
              "      <td>4</td>\n",
              "      <td>Cancer (10).tif</td>\n",
              "      <td>tumor</td>\n",
              "      <td>TIFF</td>\n",
              "      <td>RGB</td>\n",
              "      <td>(256, 256, 3)</td>\n",
              "    </tr>\n",
              "  </tbody>\n",
              "</table>\n",
              "</div>\n",
              "    <div class=\"colab-df-buttons\">\n",
              "\n",
              "  <div class=\"colab-df-container\">\n",
              "    <button class=\"colab-df-convert\" onclick=\"convertToInteractive('df-1c3770bb-7cfe-4b0a-a864-0d0e12f9bb37')\"\n",
              "            title=\"Convert this dataframe to an interactive table.\"\n",
              "            style=\"display:none;\">\n",
              "\n",
              "  <svg xmlns=\"http://www.w3.org/2000/svg\" height=\"24px\" viewBox=\"0 -960 960 960\">\n",
              "    <path d=\"M120-120v-720h720v720H120Zm60-500h600v-160H180v160Zm220 220h160v-160H400v160Zm0 220h160v-160H400v160ZM180-400h160v-160H180v160Zm440 0h160v-160H620v160ZM180-180h160v-160H180v160Zm440 0h160v-160H620v160Z\"/>\n",
              "  </svg>\n",
              "    </button>\n",
              "\n",
              "  <style>\n",
              "    .colab-df-container {\n",
              "      display:flex;\n",
              "      gap: 12px;\n",
              "    }\n",
              "\n",
              "    .colab-df-convert {\n",
              "      background-color: #E8F0FE;\n",
              "      border: none;\n",
              "      border-radius: 50%;\n",
              "      cursor: pointer;\n",
              "      display: none;\n",
              "      fill: #1967D2;\n",
              "      height: 32px;\n",
              "      padding: 0 0 0 0;\n",
              "      width: 32px;\n",
              "    }\n",
              "\n",
              "    .colab-df-convert:hover {\n",
              "      background-color: #E2EBFA;\n",
              "      box-shadow: 0px 1px 2px rgba(60, 64, 67, 0.3), 0px 1px 3px 1px rgba(60, 64, 67, 0.15);\n",
              "      fill: #174EA6;\n",
              "    }\n",
              "\n",
              "    .colab-df-buttons div {\n",
              "      margin-bottom: 4px;\n",
              "    }\n",
              "\n",
              "    [theme=dark] .colab-df-convert {\n",
              "      background-color: #3B4455;\n",
              "      fill: #D2E3FC;\n",
              "    }\n",
              "\n",
              "    [theme=dark] .colab-df-convert:hover {\n",
              "      background-color: #434B5C;\n",
              "      box-shadow: 0px 1px 3px 1px rgba(0, 0, 0, 0.15);\n",
              "      filter: drop-shadow(0px 1px 2px rgba(0, 0, 0, 0.3));\n",
              "      fill: #FFFFFF;\n",
              "    }\n",
              "  </style>\n",
              "\n",
              "    <script>\n",
              "      const buttonEl =\n",
              "        document.querySelector('#df-1c3770bb-7cfe-4b0a-a864-0d0e12f9bb37 button.colab-df-convert');\n",
              "      buttonEl.style.display =\n",
              "        google.colab.kernel.accessAllowed ? 'block' : 'none';\n",
              "\n",
              "      async function convertToInteractive(key) {\n",
              "        const element = document.querySelector('#df-1c3770bb-7cfe-4b0a-a864-0d0e12f9bb37');\n",
              "        const dataTable =\n",
              "          await google.colab.kernel.invokeFunction('convertToInteractive',\n",
              "                                                    [key], {});\n",
              "        if (!dataTable) return;\n",
              "\n",
              "        const docLinkHtml = 'Like what you see? Visit the ' +\n",
              "          '<a target=\"_blank\" href=https://colab.research.google.com/notebooks/data_table.ipynb>data table notebook</a>'\n",
              "          + ' to learn more about interactive tables.';\n",
              "        element.innerHTML = '';\n",
              "        dataTable['output_type'] = 'display_data';\n",
              "        await google.colab.output.renderOutput(dataTable, element);\n",
              "        const docLink = document.createElement('div');\n",
              "        docLink.innerHTML = docLinkHtml;\n",
              "        element.appendChild(docLink);\n",
              "      }\n",
              "    </script>\n",
              "  </div>\n",
              "\n",
              "\n",
              "<div id=\"df-63e1b95a-df91-464c-a61a-2898dd1288cf\">\n",
              "  <button class=\"colab-df-quickchart\" onclick=\"quickchart('df-63e1b95a-df91-464c-a61a-2898dd1288cf')\"\n",
              "            title=\"Suggest charts\"\n",
              "            style=\"display:none;\">\n",
              "\n",
              "<svg xmlns=\"http://www.w3.org/2000/svg\" height=\"24px\"viewBox=\"0 0 24 24\"\n",
              "     width=\"24px\">\n",
              "    <g>\n",
              "        <path d=\"M19 3H5c-1.1 0-2 .9-2 2v14c0 1.1.9 2 2 2h14c1.1 0 2-.9 2-2V5c0-1.1-.9-2-2-2zM9 17H7v-7h2v7zm4 0h-2V7h2v10zm4 0h-2v-4h2v4z\"/>\n",
              "    </g>\n",
              "</svg>\n",
              "  </button>\n",
              "\n",
              "<style>\n",
              "  .colab-df-quickchart {\n",
              "      --bg-color: #E8F0FE;\n",
              "      --fill-color: #1967D2;\n",
              "      --hover-bg-color: #E2EBFA;\n",
              "      --hover-fill-color: #174EA6;\n",
              "      --disabled-fill-color: #AAA;\n",
              "      --disabled-bg-color: #DDD;\n",
              "  }\n",
              "\n",
              "  [theme=dark] .colab-df-quickchart {\n",
              "      --bg-color: #3B4455;\n",
              "      --fill-color: #D2E3FC;\n",
              "      --hover-bg-color: #434B5C;\n",
              "      --hover-fill-color: #FFFFFF;\n",
              "      --disabled-bg-color: #3B4455;\n",
              "      --disabled-fill-color: #666;\n",
              "  }\n",
              "\n",
              "  .colab-df-quickchart {\n",
              "    background-color: var(--bg-color);\n",
              "    border: none;\n",
              "    border-radius: 50%;\n",
              "    cursor: pointer;\n",
              "    display: none;\n",
              "    fill: var(--fill-color);\n",
              "    height: 32px;\n",
              "    padding: 0;\n",
              "    width: 32px;\n",
              "  }\n",
              "\n",
              "  .colab-df-quickchart:hover {\n",
              "    background-color: var(--hover-bg-color);\n",
              "    box-shadow: 0 1px 2px rgba(60, 64, 67, 0.3), 0 1px 3px 1px rgba(60, 64, 67, 0.15);\n",
              "    fill: var(--button-hover-fill-color);\n",
              "  }\n",
              "\n",
              "  .colab-df-quickchart-complete:disabled,\n",
              "  .colab-df-quickchart-complete:disabled:hover {\n",
              "    background-color: var(--disabled-bg-color);\n",
              "    fill: var(--disabled-fill-color);\n",
              "    box-shadow: none;\n",
              "  }\n",
              "\n",
              "  .colab-df-spinner {\n",
              "    border: 2px solid var(--fill-color);\n",
              "    border-color: transparent;\n",
              "    border-bottom-color: var(--fill-color);\n",
              "    animation:\n",
              "      spin 1s steps(1) infinite;\n",
              "  }\n",
              "\n",
              "  @keyframes spin {\n",
              "    0% {\n",
              "      border-color: transparent;\n",
              "      border-bottom-color: var(--fill-color);\n",
              "      border-left-color: var(--fill-color);\n",
              "    }\n",
              "    20% {\n",
              "      border-color: transparent;\n",
              "      border-left-color: var(--fill-color);\n",
              "      border-top-color: var(--fill-color);\n",
              "    }\n",
              "    30% {\n",
              "      border-color: transparent;\n",
              "      border-left-color: var(--fill-color);\n",
              "      border-top-color: var(--fill-color);\n",
              "      border-right-color: var(--fill-color);\n",
              "    }\n",
              "    40% {\n",
              "      border-color: transparent;\n",
              "      border-right-color: var(--fill-color);\n",
              "      border-top-color: var(--fill-color);\n",
              "    }\n",
              "    60% {\n",
              "      border-color: transparent;\n",
              "      border-right-color: var(--fill-color);\n",
              "    }\n",
              "    80% {\n",
              "      border-color: transparent;\n",
              "      border-right-color: var(--fill-color);\n",
              "      border-bottom-color: var(--fill-color);\n",
              "    }\n",
              "    90% {\n",
              "      border-color: transparent;\n",
              "      border-bottom-color: var(--fill-color);\n",
              "    }\n",
              "  }\n",
              "</style>\n",
              "\n",
              "  <script>\n",
              "    async function quickchart(key) {\n",
              "      const quickchartButtonEl =\n",
              "        document.querySelector('#' + key + ' button');\n",
              "      quickchartButtonEl.disabled = true;  // To prevent multiple clicks.\n",
              "      quickchartButtonEl.classList.add('colab-df-spinner');\n",
              "      try {\n",
              "        const charts = await google.colab.kernel.invokeFunction(\n",
              "            'suggestCharts', [key], {});\n",
              "      } catch (error) {\n",
              "        console.error('Error during call to suggestCharts:', error);\n",
              "      }\n",
              "      quickchartButtonEl.classList.remove('colab-df-spinner');\n",
              "      quickchartButtonEl.classList.add('colab-df-quickchart-complete');\n",
              "    }\n",
              "    (() => {\n",
              "      let quickchartButtonEl =\n",
              "        document.querySelector('#df-63e1b95a-df91-464c-a61a-2898dd1288cf button');\n",
              "      quickchartButtonEl.style.display =\n",
              "        google.colab.kernel.accessAllowed ? 'block' : 'none';\n",
              "    })();\n",
              "  </script>\n",
              "</div>\n",
              "\n",
              "    </div>\n",
              "  </div>\n"
            ],
            "text/plain": [
              "   Unnamed: 0            image  class format mode          shape\n",
              "0           0   Cancer (1).jpg  tumor   JPEG  RGB  (512, 512, 3)\n",
              "1           1   Cancer (1).png  tumor    PNG    L     (300, 240)\n",
              "2           2   Cancer (1).tif  tumor   TIFF  RGB  (256, 256, 3)\n",
              "3           3  Cancer (10).jpg  tumor   JPEG  RGB  (512, 512, 3)\n",
              "4           4  Cancer (10).tif  tumor   TIFF  RGB  (256, 256, 3)"
            ]
          },
          "execution_count": 5,
          "metadata": {},
          "output_type": "execute_result"
        }
      ],
      "source": [
        "import pandas as pd\n",
        "\n",
        "df = pd.read_csv('./brian-tumor-dataset/metadata.csv')\n",
        "df.head()"
      ]
    },
    {
      "cell_type": "code",
      "execution_count": null,
      "metadata": {
        "id": "8VxSAHGyzhiS"
      },
      "outputs": [],
      "source": []
    },
    {
      "cell_type": "code",
      "execution_count": null,
      "metadata": {
        "id": "1pPsd2zc4NRD"
      },
      "outputs": [],
      "source": [
        "df = df[df['mode'] == 'RGB']"
      ]
    },
    {
      "cell_type": "code",
      "execution_count": null,
      "metadata": {
        "id": "xk_444p34bAo"
      },
      "outputs": [],
      "source": [
        "df = df[df['format'] == 'JPEG']"
      ]
    },
    {
      "cell_type": "code",
      "execution_count": null,
      "metadata": {
        "id": "Gy__kmgq4l2h"
      },
      "outputs": [],
      "source": [
        "df['format'].value_counts()"
      ]
    },
    {
      "cell_type": "code",
      "execution_count": null,
      "metadata": {
        "id": "HVKoYMA84ujf"
      },
      "outputs": [],
      "source": [
        "df = df.drop(axis=1, columns=[\"Unnamed: 0\"])"
      ]
    },
    {
      "cell_type": "code",
      "execution_count": null,
      "metadata": {
        "id": "eDz9jXnx7_fB"
      },
      "outputs": [],
      "source": [
        "normal_df = df[df['class'] != 'tumor'][:1000]\n",
        "tumor_df = df[df['class'] != 'normal'][:1000]"
      ]
    },
    {
      "cell_type": "code",
      "execution_count": null,
      "metadata": {
        "id": "AfJleb7R6WDm"
      },
      "outputs": [],
      "source": [
        "df.head()"
      ]
    },
    {
      "cell_type": "code",
      "execution_count": null,
      "metadata": {
        "id": "QwQn-WM_8kYx"
      },
      "outputs": [],
      "source": [
        "new_df = pd.DataFrame(pd.concat([normal_df, tumor_df], axis=0), columns=normal_df.columns)"
      ]
    },
    {
      "cell_type": "code",
      "execution_count": null,
      "metadata": {
        "id": "gwjcSNRw8y0i"
      },
      "outputs": [],
      "source": [
        "new_df['class'].value_counts()"
      ]
    },
    {
      "cell_type": "code",
      "execution_count": null,
      "metadata": {
        "id": "GPjmARLcKK15"
      },
      "outputs": [],
      "source": [
        "import numpy as np\n",
        "import tensorflow as tf\n",
        "from tensorflow.keras.preprocessing.image import load_img, img_to_array\n",
        "from matplotlib import pyplot as plt\n",
        "from sklearn.preprocessing import StandardScaler\n",
        "from sklearn.model_selection import train_test_split\n",
        "import os"
      ]
    },
    {
      "cell_type": "code",
      "execution_count": null,
      "metadata": {
        "collapsed": true,
        "id": "bV1DLnqUM_nw"
      },
      "outputs": [],
      "source": [
        "path = 'brian-tumor-dataset/Brain Tumor Data Set/Brain Tumor Data Set/'\n",
        "dirs = os.listdir(path)\n",
        "labels = {'normal':'Healthy', 'tumor':'Brain Tumor'}\n",
        "classes = ['normal','tumor']\n",
        "imgs = []\n",
        "class_list = []\n",
        "\n",
        "for image,cls in zip(new_df['image'], new_df['class']):\n",
        "  img = load_img(path + labels[cls] + '/' + image)\n",
        "  img = img_to_array(img)\n",
        "  img = tf.image.resize(img, [227,227])\n",
        "  img = img/255.0\n",
        "  imgs.append(img)\n",
        "  class_list.append(classes.index(cls))\n"
      ]
    },
    {
      "cell_type": "code",
      "execution_count": null,
      "metadata": {
        "colab": {
          "base_uri": "https://localhost:8080/",
          "height": 435
        },
        "id": "kiCxUYq7PfYY",
        "outputId": "5a453be6-4ba4-4f1a-d6e9-212c50054fac"
      },
      "outputs": [
        {
          "data": {
            "image/png": "[encoded data removed]",
            "text/plain": [
              "<Figure size 640x480 with 2 Axes>"
            ]
          },
          "metadata": {},
          "output_type": "display_data"
        }
      ],
      "source": [
        "plt.subplot(2,1,1)\n",
        "plt.imshow(imgs[0])\n",
        "plt.subplot(2,1,2)\n",
        "plt.imshow(imgs[1999])\n",
        "\n",
        "plt.show()"
      ]
    },
    {
      "cell_type": "code",
      "execution_count": null,
      "metadata": {
        "id": "LY78P_4SSRBg"
      },
      "outputs": [],
      "source": [
        "Y = tf.keras.utils.to_categorical(class_list, num_classes=len(labels))"
      ]
    },
    {
      "cell_type": "code",
      "execution_count": null,
      "metadata": {
        "id": "OwTq6rDPTZMA"
      },
      "outputs": [],
      "source": [
        "imgs = np.asarray(imgs)\n",
        "\n",
        "x_train, x_test, y_train, y_test = train_test_split(imgs,Y,test_size=0.2,random_state=42)\n",
        "x_test, x_valid, y_test, y_valid = train_test_split(x_test,y_test,test_size=0.5,random_state=42)"
      ]
    },
    {
      "cell_type": "code",
      "execution_count": null,
      "metadata": {
        "colab": {
          "base_uri": "https://localhost:8080/"
        },
        "id": "MSXMGOQj8PsT",
        "outputId": "b6078b2e-b5b0-4bdb-c505-08353fe88334"
      },
      "outputs": [
        {
          "data": {
            "text/plain": [
              "array([[[0., 0., 0.],\n",
              "        [0., 0., 0.],\n",
              "        [0., 0., 0.],\n",
              "        ...,\n",
              "        [0., 0., 0.],\n",
              "        [0., 0., 0.],\n",
              "        [0., 0., 0.]],\n",
              "\n",
              "       [[0., 0., 0.],\n",
              "        [0., 0., 0.],\n",
              "        [0., 0., 0.],\n",
              "        ...,\n",
              "        [0., 0., 0.],\n",
              "        [0., 0., 0.],\n",
              "        [0., 0., 0.]],\n",
              "\n",
              "       [[0., 0., 0.],\n",
              "        [0., 0., 0.],\n",
              "        [0., 0., 0.],\n",
              "        ...,\n",
              "        [0., 0., 0.],\n",
              "        [0., 0., 0.],\n",
              "        [0., 0., 0.]],\n",
              "\n",
              "       ...,\n",
              "\n",
              "       [[0., 0., 0.],\n",
              "        [0., 0., 0.],\n",
              "        [0., 0., 0.],\n",
              "        ...,\n",
              "        [0., 0., 0.],\n",
              "        [0., 0., 0.],\n",
              "        [0., 0., 0.]],\n",
              "\n",
              "       [[0., 0., 0.],\n",
              "        [0., 0., 0.],\n",
              "        [0., 0., 0.],\n",
              "        ...,\n",
              "        [0., 0., 0.],\n",
              "        [0., 0., 0.],\n",
              "        [0., 0., 0.]],\n",
              "\n",
              "       [[0., 0., 0.],\n",
              "        [0., 0., 0.],\n",
              "        [0., 0., 0.],\n",
              "        ...,\n",
              "        [0., 0., 0.],\n",
              "        [0., 0., 0.],\n",
              "        [0., 0., 0.]]], dtype=float32)"
            ]
          },
          "execution_count": 122,
          "metadata": {},
          "output_type": "execute_result"
        }
      ],
      "source": [
        "x_train[0]"
      ]
    },
    {
      "cell_type": "code",
      "execution_count": null,
      "metadata": {
        "id": "itQnUe_x3ZTl"
      },
      "outputs": [],
      "source": []
    },
    {
      "cell_type": "code",
      "execution_count": null,
      "metadata": {
        "id": "AB7b4ACvvswg"
      },
      "outputs": [],
      "source": [
        "from tensorflow.keras.layers import Dense, Flatten, Conv2D, MaxPool2D, Dropout"
      ]
    },
    {
      "cell_type": "code",
      "execution_count": null,
      "metadata": {
        "id": "J_YMdg-zTyNf"
      },
      "outputs": [],
      "source": [
        "model = tf.keras.Sequential(\n",
        "    [\n",
        "        Conv2D(96, kernel_size = (11,11), strides=4, padding='valid', activation='relu', input_shape=(227,227,3)),\n",
        "        MaxPool2D(pool_size=(3,3), strides=(2,2)),\n",
        "        Conv2D(256, kernel_size = (5,5), strides=1, padding='same', activation='relu'),\n",
        "        MaxPool2D(pool_size=(3,3), strides=(2,2)),\n",
        "        Conv2D(384, kernel_size = (3,3), strides=1, padding='same', activation='relu'),\n",
        "        Conv2D(384, kernel_size = (3,3), strides=1, padding='same', activation='relu'),\n",
        "        Conv2D(256, kernel_size = (3,3), strides=1, padding='same', activation='relu'),\n",
        "        MaxPool2D(pool_size=(3,3), strides=(2,2)),\n",
        "        Flatten(),\n",
        "        Dense(9216, activation= 'relu'),\n",
        "        Dense(4096, activation= 'relu'),\n",
        "        Dense(4096, activation= 'relu'),\n",
        "        Dropout(0.2),\n",
        "        Dense(1000, activation= 'relu'),\n",
        "        Dropout(0.2),\n",
        "        Dense(2, activation= 'softmax')\n",
        "    ]\n",
        ")"
      ]
    },
    {
      "cell_type": "code",
      "execution_count": null,
      "metadata": {
        "colab": {
          "base_uri": "https://localhost:8080/"
        },
        "id": "4_0VnRnpwxBa",
        "outputId": "ca737822-9ba5-47de-b72f-ae1e2b997edb"
      },
      "outputs": [
        {
          "name": "stdout",
          "output_type": "stream",
          "text": [
            "Model: \"sequential\"\n",
            "_________________________________________________________________\n",
            " Layer (type)                Output Shape              Param #   \n",
            "=================================================================\n",
            " conv2d (Conv2D)             (None, 55, 55, 96)        34944     \n",
            "                                                                 \n",
            " max_pooling2d (MaxPooling2D  (None, 27, 27, 96)       0         \n",
            " )                                                               \n",
            "                                                                 \n",
            " conv2d_1 (Conv2D)           (None, 27, 27, 256)       614656    \n",
            "                                                                 \n",
            " max_pooling2d_1 (MaxPooling  (None, 13, 13, 256)      0         \n",
            " 2D)                                                             \n",
            "                                                                 \n",
            " conv2d_2 (Conv2D)           (None, 13, 13, 384)       885120    \n",
            "                                                                 \n",
            " conv2d_3 (Conv2D)           (None, 13, 13, 384)       1327488   \n",
            "                                                                 \n",
            " conv2d_4 (Conv2D)           (None, 13, 13, 256)       884992    \n",
            "                                                                 \n",
            " max_pooling2d_2 (MaxPooling  (None, 6, 6, 256)        0         \n",
            " 2D)                                                             \n",
            "                                                                 \n",
            " flatten (Flatten)           (None, 9216)              0         \n",
            "                                                                 \n",
            " dense (Dense)               (None, 9216)              84943872  \n",
            "                                                                 \n",
            " dense_1 (Dense)             (None, 4096)              37752832  \n",
            "                                                                 \n",
            " dense_2 (Dense)             (None, 4096)              16781312  \n",
            "                                                                 \n",
            " dropout (Dropout)           (None, 4096)              0         \n",
            "                                                                 \n",
            " dense_3 (Dense)             (None, 1000)              4097000   \n",
            "                                                                 \n",
            " dropout_1 (Dropout)         (None, 1000)              0         \n",
            "                                                                 \n",
            " dense_4 (Dense)             (None, 2)                 2002      \n",
            "                                                                 \n",
            "=================================================================\n",
            "Total params: 147,324,218\n",
            "Trainable params: 147,324,218\n",
            "Non-trainable params: 0\n",
            "_________________________________________________________________\n",
            "None\n"
          ]
        }
      ],
      "source": [
        "BATCH_SIZE = 128\n",
        "EPOCH = 20\n",
        "model.compile(optimizer='adam', loss='categorical_crossentropy',metrics=['accuracy'])\n",
        "print(model.summary())"
      ]
    },
    {
      "cell_type": "code",
      "execution_count": null,
      "metadata": {
        "id": "hg0JySaoyWn1"
      },
      "outputs": [],
      "source": [
        "early_stopper = tf.keras.callbacks.EarlyStopping(monitor='val_loss', patience =3)\n"
      ]
    },
    {
      "cell_type": "code",
      "execution_count": null,
      "metadata": {
        "colab": {
          "base_uri": "https://localhost:8080/"
        },
        "id": "JnJeC0aP6ZMH",
        "outputId": "095a63ff-63ed-4ec8-8fb7-9beb9291189a"
      },
      "outputs": [
        {
          "name": "stdout",
          "output_type": "stream",
          "text": [
            "(800, 227, 227, 3) float32\n",
            "(800, 2) float32\n",
            "(100, 227, 227, 3) float32\n",
            "(100, 2) float32\n"
          ]
        }
      ],
      "source": [
        "print(x_train.shape, x_train.dtype)\n",
        "print(y_train.shape, y_train.dtype)\n",
        "print(x_valid.shape, x_valid.dtype)\n",
        "print(y_valid.shape, y_valid.dtype)\n"
      ]
    },
    {
      "cell_type": "code",
      "execution_count": null,
      "metadata": {
        "colab": {
          "base_uri": "https://localhost:8080/"
        },
        "id": "OZUHDZtSyk_7",
        "outputId": "c591f97f-3c1e-429e-f14d-6cc55d63e96b"
      },
      "outputs": [
        {
          "name": "stdout",
          "output_type": "stream",
          "text": [
            "Epoch 1/20\n",
            "10/13 [======================>.......] - ETA: 1:10 - loss: 1.4865 - accuracy: 0.5055"
          ]
        }
      ],
      "source": [
        "history = model.fit(\n",
        "    x_train,\n",
        "    y_train,\n",
        "    epochs = EPOCH,\n",
        "    validation_data = (x_valid, y_valid),\n",
        "    batch_size = BATCH_SIZE,\n",
        "    callbacks = [early_stopper]\n",
        ")"
      ]
    },
    {
      "cell_type": "code",
      "execution_count": null,
      "metadata": {
        "id": "aM-FRbqEdab2"
      },
      "outputs": [],
      "source": []
    },
    {
      "cell_type": "code",
      "execution_count": null,
      "metadata": {
        "id": "njmzhVs5gq_R"
      },
      "outputs": [],
      "source": [
        "acc = history.history['accuracy']\n",
        "val_acc = history.history['val_accuracy']\n",
        "loss = history.history['loss']\n",
        "val_loss = history.history['val_loss']"
      ]
    },
    {
      "cell_type": "code",
      "execution_count": null,
      "metadata": {
        "id": "KvCKFzNOp8mm"
      },
      "outputs": [],
      "source": [
        "import matplotlib.pyplot as plt\n",
        "\n",
        "epochs = range(1, len(acc) + 1)\n",
        "\n",
        "plt.plot(epochs, acc, 'bo', label='Training acc')\n",
        "plt.plot(epochs, val_acc, 'b', label='Validation acc')\n",
        "plt.title('Training and validation accuracy')\n",
        "plt.legend()\n",
        "\n",
        "plt.figure()\n",
        "\n",
        "plt.plot(epochs, loss, 'bo', label='Training loss')\n",
        "plt.plot(epochs, val_loss, 'b', label='Validation loss')\n",
        "plt.title('Training and validation loss')\n",
        "plt.legend()\n",
        "\n",
        "plt.show()"
      ]
    },
    {
      "cell_type": "code",
      "execution_count": null,
      "metadata": {
        "colab": {
          "base_uri": "https://localhost:8080/"
        },
        "id": "dGaoLQlOdmv_",
        "outputId": "c6c9ac66-51a1-4c1d-9fdc-f8ffdf4318f7"
      },
      "outputs": [
        {
          "name": "stderr",
          "output_type": "stream",
          "text": [
            "WARNING:absl:You are saving your model as an HDF5 file via `model.save()` or `keras.saving.save_model(model)`. This file format is considered legacy. We recommend using instead the native Keras format, e.g. `model.save('my_model.keras')` or `keras.saving.save_model(model, 'my_model.keras')`. \n"
          ]
        }
      ],
      "source": [
        "model.save('./drive/MyDrive/dcnn_model.h5')"
      ]
    },
    {
      "cell_type": "code",
      "execution_count": null,
      "metadata": {
        "id": "qL9DqNwJUh3Z"
      },
      "outputs": [],
      "source": [
        "predictions = model.predict(x_test)\n",
        "y_pred = tf.argmax(predictions, axis=1)\n",
        "y_true = tf.argmax(y_test, axis = 1)"
      ]
    },
    {
      "cell_type": "code",
      "execution_count": null,
      "metadata": {
        "colab": {
          "base_uri": "https://localhost:8080/"
        },
        "id": "iGGz27zum2H_",
        "outputId": "ac617a5c-fa08-49d6-c2e5-b92cf575e476"
      },
      "outputs": [
        {
          "data": {
            "text/plain": [
              "<tf.Tensor: shape=(200,), dtype=int64, numpy=\n",
              "array([1, 0, 1, 0, 0, 0, 1, 1, 0, 0, 0, 1, 1, 0, 0, 0, 1, 0, 1, 1, 0, 1,\n",
              "       0, 1, 0, 1, 0, 0, 1, 0, 0, 1, 0, 1, 1, 1, 1, 0, 1, 0, 1, 0, 0, 0,\n",
              "       0, 1, 1, 0, 1, 0, 0, 1, 0, 1, 1, 0, 1, 1, 0, 1, 1, 1, 0, 0, 1, 1,\n",
              "       1, 0, 0, 1, 0, 0, 1, 0, 0, 1, 1, 1, 1, 0, 1, 0, 1, 0, 0, 0, 0, 0,\n",
              "       1, 1, 0, 0, 0, 0, 1, 1, 0, 1, 1, 0, 0, 0, 1, 1, 1, 1, 1, 0, 1, 0,\n",
              "       0, 0, 0, 1, 0, 1, 0, 0, 1, 1, 0, 0, 0, 0, 1, 0, 1, 1, 0, 0, 0, 0,\n",
              "       0, 0, 1, 0, 0, 0, 1, 0, 0, 1, 1, 1, 1, 1, 1, 1, 1, 0, 0, 0, 1, 1,\n",
              "       1, 0, 0, 1, 1, 1, 0, 0, 1, 0, 1, 1, 1, 1, 1, 0, 0, 0, 1, 1, 0, 0,\n",
              "       0, 0, 1, 0, 0, 0, 0, 1, 0, 1, 1, 0, 0, 0, 0, 1, 0, 0, 1, 0, 0, 1,\n",
              "       1, 0])>"
            ]
          },
          "execution_count": 42,
          "metadata": {},
          "output_type": "execute_result"
        }
      ],
      "source": []
    },
    {
      "cell_type": "code",
      "execution_count": null,
      "metadata": {
        "id": "8Bt2vzbqf1OA"
      },
      "outputs": [],
      "source": [
        "y_true = np.array(y_true)\n",
        "y_pred = np.array(y_pred)\n",
        "# print(y_true)\n",
        "# print(y_pred)\n",
        "\n",
        "acc = np.mean(y_true == y_pred)\n",
        "print(f\"accuracy test : {acc}\")"
      ]
    },
    {
      "cell_type": "code",
      "execution_count": null,
      "metadata": {
        "colab": {
          "base_uri": "https://localhost:8080/"
        },
        "id": "iIsi6ahvhreG",
        "outputId": "8671999b-8aeb-4189-a9bc-1cc697785b3e"
      },
      "outputs": [
        {
          "name": "stdout",
          "output_type": "stream",
          "text": [
            "\u001b[1m50/50\u001b[0m \u001b[32m━━━━━━━━━━━━━━━━━━━━\u001b[0m\u001b[37m\u001b[0m \u001b[1m1s\u001b[0m 15ms/step\n"
          ]
        }
      ],
      "source": [
        "predictions = model.predict(x_train)\n",
        "y_pred = tf.argmax(predictions, axis=1)\n",
        "y_true = tf.argmax(y_train, axis = 1)"
      ]
    },
    {
      "cell_type": "code",
      "execution_count": null,
      "metadata": {
        "colab": {
          "base_uri": "https://localhost:8080/"
        },
        "id": "BYooyq66hmy0",
        "outputId": "ee5c584b-5caf-4aef-b8fa-a454bbdaab72"
      },
      "outputs": [
        {
          "name": "stdout",
          "output_type": "stream",
          "text": [
            "accuracy train : 0.9975\n"
          ]
        }
      ],
      "source": [
        "y_true = np.array(y_true)\n",
        "y_pred = np.array(y_pred)\n",
        "\n",
        "acc = np.mean(y_true == y_pred)\n",
        "print(f\"accuracy train : {acc}\")"
      ]
    }
  ],
  "metadata": {
    "accelerator": "GPU",
    "colab": {
      "gpuType": "T4",
      "provenance": []
    },
    "kernelspec": {
      "display_name": "Python 3",
      "name": "python3"
    },
    "language_info": {
      "codemirror_mode": {
        "name": "ipython",
        "version": 3
      },
      "file_extension": ".py",
      "mimetype": "text/x-python",
      "name": "python",
      "nbconvert_exporter": "python",
      "pygments_lexer": "ipython3",
      "version": "3.10.11"
    }
  },
  "nbformat": 4,
  "nbformat_minor": 0
}
